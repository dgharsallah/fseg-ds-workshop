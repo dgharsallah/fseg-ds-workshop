{
 "cells": [
  {
   "cell_type": "code",
   "execution_count": 1,
   "metadata": {
    "colab": {},
    "colab_type": "code",
    "collapsed": true,
    "id": "jfqUBE1Pl6Hv"
   },
   "outputs": [],
   "source": [
    "# Import helper library\n",
    "import pandas as  pd \n",
    "import gc\n",
    "import numpy as np \n",
    "import seaborn as sns \n",
    "import matplotlib.pyplot as plt \n",
    "from sklearn.metrics import mean_absolute_error \n",
    "from sklearn.model_selection import train_test_split,KFold\n",
    "import xgboost as xgb\n"
   ]
  },
  {
   "cell_type": "markdown",
   "metadata": {
    "colab_type": "text",
    "id": "tlLw_UcWvvFJ"
   },
   "source": [
    "# Data understanding"
   ]
  },
  {
   "cell_type": "markdown",
   "metadata": {
    "colab_type": "text",
    "id": "MIkLrOidw75q"
   },
   "source": [
    "##  1-Understand the Task  \n"
   ]
  },
  {
   "cell_type": "markdown",
   "metadata": {
    "colab_type": "text",
    "id": "HXykj66Q0Nmg"
   },
   "source": [
    "During this workshop we will use data from [\"Traffic Jam: Predicting People's Movement into Nairobi\" ](https://zindi.africa/competitions/traffic-jam-predicting-peoples-movement-into-nairobi)which is a competition powered by Uber and MobiTicket Kenya and hosted by Zindi."
   ]
  },
  {
   "cell_type": "markdown",
   "metadata": {
    "colab_type": "text",
    "id": "34RjIXE-xHC5"
   },
   "source": [
    "## 2-Load and Transform the raw data"
   ]
  },
  {
   "cell_type": "markdown",
   "metadata": {
    "colab_type": "text",
    "id": "Uz46VDq52KpC"
   },
   "source": [
    "### 2.1 Load  data"
   ]
  },
  {
   "cell_type": "code",
   "execution_count": 2,
   "metadata": {
    "colab": {},
    "colab_type": "code",
    "collapsed": true,
    "id": "rplDeTiK0aec"
   },
   "outputs": [],
   "source": [
    "train_url=\"https://raw.githubusercontent.com/JedidiMohamed/Workshop_Eniso/master/data/train.csv\"\n",
    "test_url=\"https://raw.githubusercontent.com/JedidiMohamed/Workshop_Eniso/master/data/test.csv\"\n",
    "test_target_url=\"https://raw.githubusercontent.com/JedidiMohamed/Workshop_Eniso/master/data/test_target.csv\"\n",
    "train=pd.read_csv(\"./train.csv\")\n",
    "test=pd.read_csv(\"./test.csv\")\n",
    "test_target=pd.read_csv(\"./test_target.csv\")"
   ]
  },
  {
   "cell_type": "code",
   "execution_count": 3,
   "metadata": {
    "colab": {
     "base_uri": "https://localhost:8080/",
     "height": 195
    },
    "colab_type": "code",
    "id": "jOajz--v1Vba",
    "outputId": "05372dc7-161b-4fb0-f511-4d03456cfecf"
   },
   "outputs": [
    {
     "data": {
      "text/html": [
       "<div>\n",
       "<style scoped>\n",
       "    .dataframe tbody tr th:only-of-type {\n",
       "        vertical-align: middle;\n",
       "    }\n",
       "\n",
       "    .dataframe tbody tr th {\n",
       "        vertical-align: top;\n",
       "    }\n",
       "\n",
       "    .dataframe thead th {\n",
       "        text-align: right;\n",
       "    }\n",
       "</style>\n",
       "<table border=\"1\" class=\"dataframe\">\n",
       "  <thead>\n",
       "    <tr style=\"text-align: right;\">\n",
       "      <th></th>\n",
       "      <th>ride_id</th>\n",
       "      <th>seat_number</th>\n",
       "      <th>payment_method</th>\n",
       "      <th>payment_receipt</th>\n",
       "      <th>travel_date</th>\n",
       "      <th>travel_time</th>\n",
       "      <th>travel_from</th>\n",
       "      <th>travel_to</th>\n",
       "      <th>car_type</th>\n",
       "      <th>max_capacity</th>\n",
       "    </tr>\n",
       "  </thead>\n",
       "  <tbody>\n",
       "    <tr>\n",
       "      <th>0</th>\n",
       "      <td>1442</td>\n",
       "      <td>15A</td>\n",
       "      <td>Mpesa</td>\n",
       "      <td>UZUEHCBUSO</td>\n",
       "      <td>17-10-17</td>\n",
       "      <td>7:15</td>\n",
       "      <td>Migori</td>\n",
       "      <td>Nairobi</td>\n",
       "      <td>Bus</td>\n",
       "      <td>49</td>\n",
       "    </tr>\n",
       "    <tr>\n",
       "      <th>1</th>\n",
       "      <td>5437</td>\n",
       "      <td>14A</td>\n",
       "      <td>Mpesa</td>\n",
       "      <td>TIHLBUSGTE</td>\n",
       "      <td>19-11-17</td>\n",
       "      <td>7:12</td>\n",
       "      <td>Migori</td>\n",
       "      <td>Nairobi</td>\n",
       "      <td>Bus</td>\n",
       "      <td>49</td>\n",
       "    </tr>\n",
       "    <tr>\n",
       "      <th>2</th>\n",
       "      <td>5710</td>\n",
       "      <td>8B</td>\n",
       "      <td>Mpesa</td>\n",
       "      <td>EQX8Q5G19O</td>\n",
       "      <td>26-11-17</td>\n",
       "      <td>7:05</td>\n",
       "      <td>Keroka</td>\n",
       "      <td>Nairobi</td>\n",
       "      <td>Bus</td>\n",
       "      <td>49</td>\n",
       "    </tr>\n",
       "    <tr>\n",
       "      <th>3</th>\n",
       "      <td>5777</td>\n",
       "      <td>19A</td>\n",
       "      <td>Mpesa</td>\n",
       "      <td>SGP18CL0ME</td>\n",
       "      <td>27-11-17</td>\n",
       "      <td>7:10</td>\n",
       "      <td>Homa Bay</td>\n",
       "      <td>Nairobi</td>\n",
       "      <td>Bus</td>\n",
       "      <td>49</td>\n",
       "    </tr>\n",
       "    <tr>\n",
       "      <th>4</th>\n",
       "      <td>5778</td>\n",
       "      <td>11A</td>\n",
       "      <td>Mpesa</td>\n",
       "      <td>BM97HFRGL9</td>\n",
       "      <td>27-11-17</td>\n",
       "      <td>7:12</td>\n",
       "      <td>Migori</td>\n",
       "      <td>Nairobi</td>\n",
       "      <td>Bus</td>\n",
       "      <td>49</td>\n",
       "    </tr>\n",
       "  </tbody>\n",
       "</table>\n",
       "</div>"
      ],
      "text/plain": [
       "   ride_id seat_number payment_method payment_receipt travel_date travel_time  \\\n",
       "0     1442         15A          Mpesa      UZUEHCBUSO    17-10-17        7:15   \n",
       "1     5437         14A          Mpesa      TIHLBUSGTE    19-11-17        7:12   \n",
       "2     5710          8B          Mpesa      EQX8Q5G19O    26-11-17        7:05   \n",
       "3     5777         19A          Mpesa      SGP18CL0ME    27-11-17        7:10   \n",
       "4     5778         11A          Mpesa      BM97HFRGL9    27-11-17        7:12   \n",
       "\n",
       "  travel_from travel_to car_type  max_capacity  \n",
       "0      Migori   Nairobi      Bus            49  \n",
       "1      Migori   Nairobi      Bus            49  \n",
       "2      Keroka   Nairobi      Bus            49  \n",
       "3    Homa Bay   Nairobi      Bus            49  \n",
       "4      Migori   Nairobi      Bus            49  "
      ]
     },
     "execution_count": 3,
     "metadata": {},
     "output_type": "execute_result"
    }
   ],
   "source": [
    "train.head()"
   ]
  },
  {
   "cell_type": "code",
   "execution_count": 4,
   "metadata": {
    "colab": {
     "base_uri": "https://localhost:8080/",
     "height": 195
    },
    "colab_type": "code",
    "id": "T5SOsmXj1aO8",
    "outputId": "9b51c5e6-4061-4fc0-a033-3c43c9033cdd"
   },
   "outputs": [
    {
     "data": {
      "text/html": [
       "<div>\n",
       "<style scoped>\n",
       "    .dataframe tbody tr th:only-of-type {\n",
       "        vertical-align: middle;\n",
       "    }\n",
       "\n",
       "    .dataframe tbody tr th {\n",
       "        vertical-align: top;\n",
       "    }\n",
       "\n",
       "    .dataframe thead th {\n",
       "        text-align: right;\n",
       "    }\n",
       "</style>\n",
       "<table border=\"1\" class=\"dataframe\">\n",
       "  <thead>\n",
       "    <tr style=\"text-align: right;\">\n",
       "      <th></th>\n",
       "      <th>ride_id</th>\n",
       "      <th>travel_date</th>\n",
       "      <th>travel_time</th>\n",
       "      <th>travel_from</th>\n",
       "      <th>travel_to</th>\n",
       "      <th>car_type</th>\n",
       "      <th>max_capacity</th>\n",
       "    </tr>\n",
       "  </thead>\n",
       "  <tbody>\n",
       "    <tr>\n",
       "      <th>0</th>\n",
       "      <td>247</td>\n",
       "      <td>2018-05-07</td>\n",
       "      <td>07:06</td>\n",
       "      <td>Kisii</td>\n",
       "      <td>Nairobi</td>\n",
       "      <td>Bus</td>\n",
       "      <td>49</td>\n",
       "    </tr>\n",
       "    <tr>\n",
       "      <th>1</th>\n",
       "      <td>256</td>\n",
       "      <td>2018-05-06</td>\n",
       "      <td>11:08</td>\n",
       "      <td>Kisii</td>\n",
       "      <td>Nairobi</td>\n",
       "      <td>shuttle</td>\n",
       "      <td>11</td>\n",
       "    </tr>\n",
       "    <tr>\n",
       "      <th>2</th>\n",
       "      <td>275</td>\n",
       "      <td>2018-05-04</td>\n",
       "      <td>05:00</td>\n",
       "      <td>Kisii</td>\n",
       "      <td>Nairobi</td>\n",
       "      <td>shuttle</td>\n",
       "      <td>11</td>\n",
       "    </tr>\n",
       "    <tr>\n",
       "      <th>3</th>\n",
       "      <td>285</td>\n",
       "      <td>2018-05-04</td>\n",
       "      <td>09:10</td>\n",
       "      <td>Kisii</td>\n",
       "      <td>Nairobi</td>\n",
       "      <td>shuttle</td>\n",
       "      <td>11</td>\n",
       "    </tr>\n",
       "    <tr>\n",
       "      <th>4</th>\n",
       "      <td>286</td>\n",
       "      <td>2018-05-04</td>\n",
       "      <td>09:20</td>\n",
       "      <td>Kisii</td>\n",
       "      <td>Nairobi</td>\n",
       "      <td>shuttle</td>\n",
       "      <td>11</td>\n",
       "    </tr>\n",
       "  </tbody>\n",
       "</table>\n",
       "</div>"
      ],
      "text/plain": [
       "   ride_id travel_date travel_time travel_from travel_to car_type  \\\n",
       "0      247  2018-05-07       07:06       Kisii   Nairobi      Bus   \n",
       "1      256  2018-05-06       11:08       Kisii   Nairobi  shuttle   \n",
       "2      275  2018-05-04       05:00       Kisii   Nairobi  shuttle   \n",
       "3      285  2018-05-04       09:10       Kisii   Nairobi  shuttle   \n",
       "4      286  2018-05-04       09:20       Kisii   Nairobi  shuttle   \n",
       "\n",
       "   max_capacity  \n",
       "0            49  \n",
       "1            11  \n",
       "2            11  \n",
       "3            11  \n",
       "4            11  "
      ]
     },
     "execution_count": 4,
     "metadata": {},
     "output_type": "execute_result"
    }
   ],
   "source": [
    "test.head()"
   ]
  },
  {
   "cell_type": "code",
   "execution_count": 5,
   "metadata": {
    "colab": {
     "base_uri": "https://localhost:8080/",
     "height": 195
    },
    "colab_type": "code",
    "id": "Bivh8fPV1ddq",
    "outputId": "b4030345-438d-481b-8ab1-ceccb692d720"
   },
   "outputs": [
    {
     "data": {
      "text/html": [
       "<div>\n",
       "<style scoped>\n",
       "    .dataframe tbody tr th:only-of-type {\n",
       "        vertical-align: middle;\n",
       "    }\n",
       "\n",
       "    .dataframe tbody tr th {\n",
       "        vertical-align: top;\n",
       "    }\n",
       "\n",
       "    .dataframe thead th {\n",
       "        text-align: right;\n",
       "    }\n",
       "</style>\n",
       "<table border=\"1\" class=\"dataframe\">\n",
       "  <thead>\n",
       "    <tr style=\"text-align: right;\">\n",
       "      <th></th>\n",
       "      <th>ride_id</th>\n",
       "      <th>number_of_ticket</th>\n",
       "    </tr>\n",
       "  </thead>\n",
       "  <tbody>\n",
       "    <tr>\n",
       "      <th>0</th>\n",
       "      <td>247</td>\n",
       "      <td>1</td>\n",
       "    </tr>\n",
       "    <tr>\n",
       "      <th>1</th>\n",
       "      <td>256</td>\n",
       "      <td>1</td>\n",
       "    </tr>\n",
       "    <tr>\n",
       "      <th>2</th>\n",
       "      <td>275</td>\n",
       "      <td>3</td>\n",
       "    </tr>\n",
       "    <tr>\n",
       "      <th>3</th>\n",
       "      <td>285</td>\n",
       "      <td>6</td>\n",
       "    </tr>\n",
       "    <tr>\n",
       "      <th>4</th>\n",
       "      <td>286</td>\n",
       "      <td>1</td>\n",
       "    </tr>\n",
       "  </tbody>\n",
       "</table>\n",
       "</div>"
      ],
      "text/plain": [
       "   ride_id  number_of_ticket\n",
       "0      247                 1\n",
       "1      256                 1\n",
       "2      275                 3\n",
       "3      285                 6\n",
       "4      286                 1"
      ]
     },
     "execution_count": 5,
     "metadata": {},
     "output_type": "execute_result"
    }
   ],
   "source": [
    "test_target.head()"
   ]
  },
  {
   "cell_type": "markdown",
   "metadata": {
    "colab_type": "text",
    "id": "NR6qcSjLyEFc"
   },
   "source": [
    "### 2.2 Transform data"
   ]
  },
  {
   "cell_type": "markdown",
   "metadata": {},
   "source": [
    "The first step to solve of this problem is to create the train set. Since the data provides\n",
    "information about ticket transactions, we need to group it by ride_id to to find the right number of\n",
    "tickets per ride."
   ]
  },
  {
   "cell_type": "code",
   "execution_count": 6,
   "metadata": {
    "colab": {},
    "colab_type": "code",
    "collapsed": true,
    "id": "0DnWslOi5fuX"
   },
   "outputs": [],
   "source": [
    "# Group train data by ride Id  and count the number of seats\n",
    "Target=train.groupby([\"ride_id\"]).seat_number.count().rename(\"number_of_ticket\").reset_index()\n",
    "# Get Statisical features for each ride id  and  drop 'payment_method', 'payment_receipt', 'seat_number' columns \n",
    "train_df=train.drop_duplicates(\"ride_id\").drop(['payment_method', 'payment_receipt', 'seat_number'],axis=1)\n",
    "# merge  each ride with target and stastical features \n",
    "train_df=train_df.merge(Target,how=\"left\",on=\"ride_id\")\n",
    "# drop travel to columns from train set and test set \n",
    "train_df.drop([\"travel_to\"],axis=1,inplace=True)\n",
    "test.drop([\"travel_to\"],axis=1,inplace=True)"
   ]
  },
  {
   "cell_type": "code",
   "execution_count": 7,
   "metadata": {
    "colab": {},
    "colab_type": "code",
    "collapsed": true,
    "id": "EnRTHV866tXE"
   },
   "outputs": [],
   "source": [
    "# processing the date columns and add Time features\n",
    "def add_20(x):\n",
    "    date=x.split(\"-\")\n",
    "    date[-1]=\"20\"+date[-1]\n",
    "    return \"-\".join(date)\n",
    "train_df[\"date\"]=(train_df[\"travel_date\"].apply(add_20)+\" \"+train_df[\"travel_time\"]).astype(str)\n",
    "test[\"date\"]=(test[\"travel_date\"]+\" \"+test[\"travel_time\"]).astype(str)\n",
    "\n",
    "def  time_features(x): \n",
    "    x[\"date\"]=pd.to_datetime(x[\"date\"],format='%d-%m-%Y %H:%M')\n",
    "    x[\"dayofweek\"]=x[\"date\"].dt.dayofweek\n",
    "    x[\"dayofyear\"]=\n",
    "    x[\"dayofmonth\"]=\n",
    "    x[\"year_woy\"]=x[\"date\"].dt.year.astype(str)+x[\"date\"].dt.weekofyear.astype(str)\n",
    "    x[\"hour\"]=\n",
    "    x[\"minute\"]=\n",
    "    x[\"is_weekend\"]=x[\"dayofweek\"].apply( lambda x : 1 if x  in [5,6] else 0 )\n",
    "    x[\"year\"]\n",
    "    x[\"quarter\"]=\n",
    "    x[\"month\"]=\n",
    "    \n",
    "\n",
    "    return x \n",
    "train_df=time_features(train_df)\n",
    "def  time_features(x): \n",
    "    x[\"date\"]=pd.to_datetime(x[\"date\"],format='%Y-%m-%d %H:%M')\n",
    "    x[\"dayofweek\"]=\n",
    "    x[\"hour\"]=\n",
    "    x[\"minute\"]=\n",
    "    x[\"dayofyear\"]=\n",
    "    x[\"dayofmonth\"]=\n",
    "    x[\"is_weekend\"]=\n",
    "    x[\"year_woy\"]=\n",
    "    x[\"year\"]=\n",
    "    x[\"quarter\"]=\n",
    "    x[\"month\"]=\n",
    "    return x \n",
    "test=time_features(test)"
   ]
  },
  {
   "cell_type": "code",
   "execution_count": 8,
   "metadata": {
    "colab": {
     "base_uri": "https://localhost:8080/",
     "height": 383
    },
    "colab_type": "code",
    "id": "rF-ZmrNJ8s_2",
    "outputId": "e4425780-739e-492f-b040-4d88b85ccad3"
   },
   "outputs": [
    {
     "data": {
      "text/html": [
       "<div>\n",
       "<style scoped>\n",
       "    .dataframe tbody tr th:only-of-type {\n",
       "        vertical-align: middle;\n",
       "    }\n",
       "\n",
       "    .dataframe tbody tr th {\n",
       "        vertical-align: top;\n",
       "    }\n",
       "\n",
       "    .dataframe thead th {\n",
       "        text-align: right;\n",
       "    }\n",
       "</style>\n",
       "<table border=\"1\" class=\"dataframe\">\n",
       "  <thead>\n",
       "    <tr style=\"text-align: right;\">\n",
       "      <th></th>\n",
       "      <th>ride_id</th>\n",
       "      <th>travel_date</th>\n",
       "      <th>travel_time</th>\n",
       "      <th>travel_from</th>\n",
       "      <th>car_type</th>\n",
       "      <th>max_capacity</th>\n",
       "      <th>number_of_ticket</th>\n",
       "      <th>date</th>\n",
       "      <th>dayofweek</th>\n",
       "      <th>dayofyear</th>\n",
       "      <th>dayofmonth</th>\n",
       "      <th>year_woy</th>\n",
       "      <th>hour</th>\n",
       "      <th>minute</th>\n",
       "      <th>is_weekend</th>\n",
       "      <th>year</th>\n",
       "      <th>quarter</th>\n",
       "      <th>month</th>\n",
       "    </tr>\n",
       "  </thead>\n",
       "  <tbody>\n",
       "    <tr>\n",
       "      <th>0</th>\n",
       "      <td>1442</td>\n",
       "      <td>17-10-17</td>\n",
       "      <td>7:15</td>\n",
       "      <td>Migori</td>\n",
       "      <td>Bus</td>\n",
       "      <td>49</td>\n",
       "      <td>1</td>\n",
       "      <td>2017-10-17 07:15:00</td>\n",
       "      <td>1</td>\n",
       "      <td>290</td>\n",
       "      <td>17</td>\n",
       "      <td>201742</td>\n",
       "      <td>7</td>\n",
       "      <td>15</td>\n",
       "      <td>0</td>\n",
       "      <td>2017</td>\n",
       "      <td>4</td>\n",
       "      <td>10</td>\n",
       "    </tr>\n",
       "    <tr>\n",
       "      <th>1</th>\n",
       "      <td>5437</td>\n",
       "      <td>19-11-17</td>\n",
       "      <td>7:12</td>\n",
       "      <td>Migori</td>\n",
       "      <td>Bus</td>\n",
       "      <td>49</td>\n",
       "      <td>1</td>\n",
       "      <td>2017-11-19 07:12:00</td>\n",
       "      <td>6</td>\n",
       "      <td>323</td>\n",
       "      <td>19</td>\n",
       "      <td>201746</td>\n",
       "      <td>7</td>\n",
       "      <td>12</td>\n",
       "      <td>1</td>\n",
       "      <td>2017</td>\n",
       "      <td>4</td>\n",
       "      <td>11</td>\n",
       "    </tr>\n",
       "    <tr>\n",
       "      <th>2</th>\n",
       "      <td>5710</td>\n",
       "      <td>26-11-17</td>\n",
       "      <td>7:05</td>\n",
       "      <td>Keroka</td>\n",
       "      <td>Bus</td>\n",
       "      <td>49</td>\n",
       "      <td>1</td>\n",
       "      <td>2017-11-26 07:05:00</td>\n",
       "      <td>6</td>\n",
       "      <td>330</td>\n",
       "      <td>26</td>\n",
       "      <td>201747</td>\n",
       "      <td>7</td>\n",
       "      <td>5</td>\n",
       "      <td>1</td>\n",
       "      <td>2017</td>\n",
       "      <td>4</td>\n",
       "      <td>11</td>\n",
       "    </tr>\n",
       "    <tr>\n",
       "      <th>3</th>\n",
       "      <td>5777</td>\n",
       "      <td>27-11-17</td>\n",
       "      <td>7:10</td>\n",
       "      <td>Homa Bay</td>\n",
       "      <td>Bus</td>\n",
       "      <td>49</td>\n",
       "      <td>5</td>\n",
       "      <td>2017-11-27 07:10:00</td>\n",
       "      <td>0</td>\n",
       "      <td>331</td>\n",
       "      <td>27</td>\n",
       "      <td>201748</td>\n",
       "      <td>7</td>\n",
       "      <td>10</td>\n",
       "      <td>0</td>\n",
       "      <td>2017</td>\n",
       "      <td>4</td>\n",
       "      <td>11</td>\n",
       "    </tr>\n",
       "    <tr>\n",
       "      <th>4</th>\n",
       "      <td>5778</td>\n",
       "      <td>27-11-17</td>\n",
       "      <td>7:12</td>\n",
       "      <td>Migori</td>\n",
       "      <td>Bus</td>\n",
       "      <td>49</td>\n",
       "      <td>31</td>\n",
       "      <td>2017-11-27 07:12:00</td>\n",
       "      <td>0</td>\n",
       "      <td>331</td>\n",
       "      <td>27</td>\n",
       "      <td>201748</td>\n",
       "      <td>7</td>\n",
       "      <td>12</td>\n",
       "      <td>0</td>\n",
       "      <td>2017</td>\n",
       "      <td>4</td>\n",
       "      <td>11</td>\n",
       "    </tr>\n",
       "  </tbody>\n",
       "</table>\n",
       "</div>"
      ],
      "text/plain": [
       "   ride_id travel_date travel_time travel_from car_type  max_capacity  \\\n",
       "0     1442    17-10-17        7:15      Migori      Bus            49   \n",
       "1     5437    19-11-17        7:12      Migori      Bus            49   \n",
       "2     5710    26-11-17        7:05      Keroka      Bus            49   \n",
       "3     5777    27-11-17        7:10    Homa Bay      Bus            49   \n",
       "4     5778    27-11-17        7:12      Migori      Bus            49   \n",
       "\n",
       "   number_of_ticket                date  dayofweek  dayofyear  dayofmonth  \\\n",
       "0                 1 2017-10-17 07:15:00          1        290          17   \n",
       "1                 1 2017-11-19 07:12:00          6        323          19   \n",
       "2                 1 2017-11-26 07:05:00          6        330          26   \n",
       "3                 5 2017-11-27 07:10:00          0        331          27   \n",
       "4                31 2017-11-27 07:12:00          0        331          27   \n",
       "\n",
       "  year_woy  hour  minute  is_weekend  year  quarter  month  \n",
       "0   201742     7      15           0  2017        4     10  \n",
       "1   201746     7      12           1  2017        4     11  \n",
       "2   201747     7       5           1  2017        4     11  \n",
       "3   201748     7      10           0  2017        4     11  \n",
       "4   201748     7      12           0  2017        4     11  "
      ]
     },
     "execution_count": 8,
     "metadata": {},
     "output_type": "execute_result"
    }
   ],
   "source": [
    "train_df.head()"
   ]
  },
  {
   "cell_type": "code",
   "execution_count": 9,
   "metadata": {
    "colab": {
     "base_uri": "https://localhost:8080/",
     "height": 383
    },
    "colab_type": "code",
    "id": "Bu7OxvVn84kt",
    "outputId": "9616d012-aa68-4032-e153-6f73227926d6"
   },
   "outputs": [
    {
     "data": {
      "text/html": [
       "<div>\n",
       "<style scoped>\n",
       "    .dataframe tbody tr th:only-of-type {\n",
       "        vertical-align: middle;\n",
       "    }\n",
       "\n",
       "    .dataframe tbody tr th {\n",
       "        vertical-align: top;\n",
       "    }\n",
       "\n",
       "    .dataframe thead th {\n",
       "        text-align: right;\n",
       "    }\n",
       "</style>\n",
       "<table border=\"1\" class=\"dataframe\">\n",
       "  <thead>\n",
       "    <tr style=\"text-align: right;\">\n",
       "      <th></th>\n",
       "      <th>ride_id</th>\n",
       "      <th>travel_date</th>\n",
       "      <th>travel_time</th>\n",
       "      <th>travel_from</th>\n",
       "      <th>car_type</th>\n",
       "      <th>max_capacity</th>\n",
       "      <th>date</th>\n",
       "      <th>dayofweek</th>\n",
       "      <th>hour</th>\n",
       "      <th>minute</th>\n",
       "      <th>dayofyear</th>\n",
       "      <th>dayofmonth</th>\n",
       "      <th>is_weekend</th>\n",
       "      <th>year_woy</th>\n",
       "      <th>year</th>\n",
       "      <th>quarter</th>\n",
       "      <th>month</th>\n",
       "    </tr>\n",
       "  </thead>\n",
       "  <tbody>\n",
       "    <tr>\n",
       "      <th>0</th>\n",
       "      <td>247</td>\n",
       "      <td>2018-05-07</td>\n",
       "      <td>07:06</td>\n",
       "      <td>Kisii</td>\n",
       "      <td>Bus</td>\n",
       "      <td>49</td>\n",
       "      <td>2018-05-07 07:06:00</td>\n",
       "      <td>0</td>\n",
       "      <td>7</td>\n",
       "      <td>6</td>\n",
       "      <td>127</td>\n",
       "      <td>7</td>\n",
       "      <td>0</td>\n",
       "      <td>201819</td>\n",
       "      <td>2018</td>\n",
       "      <td>2</td>\n",
       "      <td>5</td>\n",
       "    </tr>\n",
       "    <tr>\n",
       "      <th>1</th>\n",
       "      <td>256</td>\n",
       "      <td>2018-05-06</td>\n",
       "      <td>11:08</td>\n",
       "      <td>Kisii</td>\n",
       "      <td>shuttle</td>\n",
       "      <td>11</td>\n",
       "      <td>2018-05-06 11:08:00</td>\n",
       "      <td>6</td>\n",
       "      <td>11</td>\n",
       "      <td>8</td>\n",
       "      <td>126</td>\n",
       "      <td>6</td>\n",
       "      <td>1</td>\n",
       "      <td>201818</td>\n",
       "      <td>2018</td>\n",
       "      <td>2</td>\n",
       "      <td>5</td>\n",
       "    </tr>\n",
       "    <tr>\n",
       "      <th>2</th>\n",
       "      <td>275</td>\n",
       "      <td>2018-05-04</td>\n",
       "      <td>05:00</td>\n",
       "      <td>Kisii</td>\n",
       "      <td>shuttle</td>\n",
       "      <td>11</td>\n",
       "      <td>2018-05-04 05:00:00</td>\n",
       "      <td>4</td>\n",
       "      <td>5</td>\n",
       "      <td>0</td>\n",
       "      <td>124</td>\n",
       "      <td>4</td>\n",
       "      <td>0</td>\n",
       "      <td>201818</td>\n",
       "      <td>2018</td>\n",
       "      <td>2</td>\n",
       "      <td>5</td>\n",
       "    </tr>\n",
       "    <tr>\n",
       "      <th>3</th>\n",
       "      <td>285</td>\n",
       "      <td>2018-05-04</td>\n",
       "      <td>09:10</td>\n",
       "      <td>Kisii</td>\n",
       "      <td>shuttle</td>\n",
       "      <td>11</td>\n",
       "      <td>2018-05-04 09:10:00</td>\n",
       "      <td>4</td>\n",
       "      <td>9</td>\n",
       "      <td>10</td>\n",
       "      <td>124</td>\n",
       "      <td>4</td>\n",
       "      <td>0</td>\n",
       "      <td>201818</td>\n",
       "      <td>2018</td>\n",
       "      <td>2</td>\n",
       "      <td>5</td>\n",
       "    </tr>\n",
       "    <tr>\n",
       "      <th>4</th>\n",
       "      <td>286</td>\n",
       "      <td>2018-05-04</td>\n",
       "      <td>09:20</td>\n",
       "      <td>Kisii</td>\n",
       "      <td>shuttle</td>\n",
       "      <td>11</td>\n",
       "      <td>2018-05-04 09:20:00</td>\n",
       "      <td>4</td>\n",
       "      <td>9</td>\n",
       "      <td>20</td>\n",
       "      <td>124</td>\n",
       "      <td>4</td>\n",
       "      <td>0</td>\n",
       "      <td>201818</td>\n",
       "      <td>2018</td>\n",
       "      <td>2</td>\n",
       "      <td>5</td>\n",
       "    </tr>\n",
       "  </tbody>\n",
       "</table>\n",
       "</div>"
      ],
      "text/plain": [
       "   ride_id travel_date travel_time travel_from car_type  max_capacity  \\\n",
       "0      247  2018-05-07       07:06       Kisii      Bus            49   \n",
       "1      256  2018-05-06       11:08       Kisii  shuttle            11   \n",
       "2      275  2018-05-04       05:00       Kisii  shuttle            11   \n",
       "3      285  2018-05-04       09:10       Kisii  shuttle            11   \n",
       "4      286  2018-05-04       09:20       Kisii  shuttle            11   \n",
       "\n",
       "                 date  dayofweek  hour  minute  dayofyear  dayofmonth  \\\n",
       "0 2018-05-07 07:06:00          0     7       6        127           7   \n",
       "1 2018-05-06 11:08:00          6    11       8        126           6   \n",
       "2 2018-05-04 05:00:00          4     5       0        124           4   \n",
       "3 2018-05-04 09:10:00          4     9      10        124           4   \n",
       "4 2018-05-04 09:20:00          4     9      20        124           4   \n",
       "\n",
       "   is_weekend year_woy  year  quarter  month  \n",
       "0           0   201819  2018        2      5  \n",
       "1           1   201818  2018        2      5  \n",
       "2           0   201818  2018        2      5  \n",
       "3           0   201818  2018        2      5  \n",
       "4           0   201818  2018        2      5  "
      ]
     },
     "execution_count": 9,
     "metadata": {},
     "output_type": "execute_result"
    }
   ],
   "source": [
    "test.head()"
   ]
  },
  {
   "cell_type": "markdown",
   "metadata": {
    "colab_type": "text",
    "id": "sgHnVA3XxVh3"
   },
   "source": [
    "## 3- Data Visualization"
   ]
  },
  {
   "cell_type": "code",
   "execution_count": 10,
   "metadata": {
    "colab": {},
    "colab_type": "code",
    "id": "HBYHHbhO9MLH"
   },
   "outputs": [
    {
     "name": "stdout",
     "output_type": "stream",
     "text": [
      "2017-10-17 2018-04-20\n",
      "2018-04-21 05:00:00 2018-05-09 08:00:00\n"
     ]
    }
   ],
   "source": [
    "# print the min and max date in the train  set \n",
    "print(train_df.date.dt.date.min(),)\n",
    "\n",
    "# print the min and max date in the test set \n",
    "print()\n"
   ]
  },
  {
   "cell_type": "code",
   "execution_count": 11,
   "metadata": {},
   "outputs": [
    {
     "data": {
      "text/plain": [
       "<matplotlib.axes._subplots.AxesSubplot at 0x7f0746bc4c50>"
      ]
     },
     "execution_count": 11,
     "metadata": {},
     "output_type": "execute_result"
    },
    {
     "data": {
      "image/png": "[encoded data removed]",
      "text/plain": [
       "<Figure size 1440x720 with 6 Axes>"
      ]
     },
     "metadata": {
      "needs_background": "light"
     },
     "output_type": "display_data"
    }
   ],
   "source": [
    "# plot for the train  and test , the count of ride by travel from ,  \n",
    "# plot for the train the sum and mean of number_of_ticket by  travel from\n",
    "fig,axs=plt.subplots(ncols=3,nrows=2)\n",
    "train_df.groupby([\"travel_from\"]).ride_id.count().plot(kind=\"bar\",title=\" count per travel_from  train\",ax=axs[0,0],figsize=(20,10))\n",
    "train_df.groupby([\"travel_from\"]).number_of_ticket.mean().plot(kind=\"bar\",title=\" mean per travel_from  train\",ax=axs[0,1],figsize=(20,10))\n",
    "train_df.groupby([\"travel_from\"]).number_of_ticket.sum().plot(kind=\"bar\",title=\" sum per travel_from  train\",ax=axs[0,2],figsize=(20,10))\n",
    "test.groupby([\"travel_from\"]).ride_id.count().plot(kind=\"bar\",title=\" count per dayofweek  test\",ax=axs[1,0],figsize=(20,10))"
   ]
  },
  {
   "cell_type": "code",
   "execution_count": 12,
   "metadata": {},
   "outputs": [
    {
     "data": {
      "text/plain": [
       "<matplotlib.axes._subplots.AxesSubplot at 0x7f07469b8668>"
      ]
     },
     "execution_count": 12,
     "metadata": {},
     "output_type": "execute_result"
    },
    {
     "data": {
      "image/png": "[encoded data removed]",
      "text/plain": [
       "<Figure size 1440x720 with 6 Axes>"
      ]
     },
     "metadata": {
      "needs_background": "light"
     },
     "output_type": "display_data"
    }
   ],
   "source": [
    "# plot for the train  and test , the count of ride by dayofweek ,  \n",
    "# plot for the train the sum and mean of number_of_ticket by  travel from\n"
   ]
  },
  {
   "cell_type": "code",
   "execution_count": 13,
   "metadata": {},
   "outputs": [
    {
     "data": {
      "text/plain": [
       "<matplotlib.axes._subplots.AxesSubplot at 0x7f074681b6d8>"
      ]
     },
     "execution_count": 13,
     "metadata": {},
     "output_type": "execute_result"
    },
    {
     "data": {
      "image/png": "[encoded data removed]",
      "text/plain": [
       "<Figure size 1440x720 with 6 Axes>"
      ]
     },
     "metadata": {
      "needs_background": "light"
     },
     "output_type": "display_data"
    }
   ],
   "source": [
    "# plot for the train  and test , the count of ride by hour ,  \n",
    "# plot for the train the sum and mean of number_of_ticket by  hour\n"
   ]
  },
  {
   "cell_type": "markdown",
   "metadata": {
    "colab_type": "text",
    "id": "X9j70CMqyd1N"
   },
   "source": [
    "# Data processing"
   ]
  },
  {
   "cell_type": "markdown",
   "metadata": {},
   "source": [
    "## 1-Target Encoding"
   ]
  },
  {
   "cell_type": "markdown",
   "metadata": {},
   "source": [
    "When you’re doing supervised learning you often have to deal with categorical variables. That is, variables which don’t have a natural numerical representation. The problem is that most machine learning algorithms require the input data to be numerical. At some point or another a data science pipeline will require converting categorical variables to numerical variables.\n",
    "There many way to do so :\n",
    "\n",
    "Label Encoding where you represent each category with random number.\n",
    "One-hot encoding where you create one binary column per category\n",
    "Target encoding where you where you calculate some statistical measure like (mean,max,min ...) of target value by category"
   ]
  },
  {
   "cell_type": "markdown",
   "metadata": {},
   "source": [
    "Let's define a function which take as input data frame, name of the categorical feature , the name of the target column , statistical functions and return an aggregate data frame grouped by the categorical feature  "
   ]
  },
  {
   "cell_type": "code",
   "execution_count": 14,
   "metadata": {
    "collapsed": true
   },
   "outputs": [],
   "source": [
    "def target_encoding(data,feautre,target=\"number_of_ticket\",agg_functions={\"mean\",\"std\"}):\n",
    "    agg=data.groupby(feautre)[target].agg(agg_functions)\n",
    "    agg.columns=[column+\"_per_{}_{}\".format(feautre,target) for column in  agg.columns.tolist()]\n",
    "    return agg    \n"
   ]
  },
  {
   "cell_type": "code",
   "execution_count": 15,
   "metadata": {},
   "outputs": [
    {
     "data": {
      "text/plain": [
       "['ride_id',\n",
       " 'travel_date',\n",
       " 'travel_time',\n",
       " 'travel_from',\n",
       " 'car_type',\n",
       " 'max_capacity',\n",
       " 'date',\n",
       " 'dayofweek',\n",
       " 'hour',\n",
       " 'minute',\n",
       " 'dayofyear',\n",
       " 'dayofmonth',\n",
       " 'is_weekend',\n",
       " 'year_woy',\n",
       " 'year',\n",
       " 'quarter',\n",
       " 'month']"
      ]
     },
     "execution_count": 15,
     "metadata": {},
     "output_type": "execute_result"
    }
   ],
   "source": [
    "test.columns.tolist()"
   ]
  },
  {
   "cell_type": "code",
   "execution_count": 1,
   "metadata": {
    "collapsed": true
   },
   "outputs": [],
   "source": [
    "# Select categorical features\n",
    "categorical_features=[\"hour\" , \"travel_from\" ,\"minute\",\"dayofweek\"]"
   ]
  },
  {
   "cell_type": "markdown",
   "metadata": {},
   "source": [
    "### 1.1 -First level interaction "
   ]
  },
  {
   "cell_type": "code",
   "execution_count": 3,
   "metadata": {},
   "outputs": [
    {
     "ename": "NameError",
     "evalue": "name 'target_encoding' is not defined",
     "output_type": "error",
     "traceback": [
      "\u001b[0;31m---------------------------------------------------------------------------\u001b[0m",
      "\u001b[0;31mNameError\u001b[0m                                 Traceback (most recent call last)",
      "\u001b[0;32m<ipython-input-3-ede30c2f25ef>\u001b[0m in \u001b[0;36m<module>\u001b[0;34m()\u001b[0m\n\u001b[1;32m      1\u001b[0m \u001b[0;31m# calculate the aggregate data frame for each categorical features and join with the train, test set\u001b[0m\u001b[0;34m\u001b[0m\u001b[0;34m\u001b[0m\u001b[0m\n\u001b[1;32m      2\u001b[0m \u001b[0;32mfor\u001b[0m \u001b[0mfeature\u001b[0m \u001b[0;32min\u001b[0m \u001b[0mcategorical_features\u001b[0m \u001b[0;34m:\u001b[0m\u001b[0;34m\u001b[0m\u001b[0m\n\u001b[0;32m----> 3\u001b[0;31m     \u001b[0magg\u001b[0m\u001b[0;34m=\u001b[0m\u001b[0mtarget_encoding\u001b[0m\u001b[0;34m(\u001b[0m\u001b[0mtrain_df\u001b[0m\u001b[0;34m,\u001b[0m\u001b[0mfeature\u001b[0m\u001b[0;34m)\u001b[0m\u001b[0;34m\u001b[0m\u001b[0m\n\u001b[0m\u001b[1;32m      4\u001b[0m     \u001b[0mtrain_df\u001b[0m\u001b[0;34m=\u001b[0m\u001b[0mtrain_df\u001b[0m\u001b[0;34m.\u001b[0m\u001b[0mmerge\u001b[0m\u001b[0;34m(\u001b[0m\u001b[0magg\u001b[0m\u001b[0;34m,\u001b[0m\u001b[0mhow\u001b[0m\u001b[0;34m=\u001b[0m\u001b[0;34m\"left\"\u001b[0m\u001b[0;34m,\u001b[0m\u001b[0mon\u001b[0m\u001b[0;34m=\u001b[0m\u001b[0mfeature\u001b[0m\u001b[0;34m)\u001b[0m\u001b[0;34m\u001b[0m\u001b[0m\n\u001b[1;32m      5\u001b[0m     \u001b[0mtest\u001b[0m\u001b[0;34m=\u001b[0m\u001b[0mtest\u001b[0m\u001b[0;34m.\u001b[0m\u001b[0mmerge\u001b[0m\u001b[0;34m(\u001b[0m\u001b[0magg\u001b[0m\u001b[0;34m,\u001b[0m\u001b[0mhow\u001b[0m\u001b[0;34m=\u001b[0m\u001b[0;34m\"left\"\u001b[0m\u001b[0;34m,\u001b[0m\u001b[0mon\u001b[0m\u001b[0;34m=\u001b[0m\u001b[0mfeature\u001b[0m\u001b[0;34m)\u001b[0m\u001b[0;34m\u001b[0m\u001b[0m\n",
      "\u001b[0;31mNameError\u001b[0m: name 'target_encoding' is not defined"
     ]
    }
   ],
   "source": [
    "# calculate the aggregate data frame for each categorical features and join with the train, test set\n",
    "for feature in categorical_features : \n",
    "    agg=target_encoding(train_df,feature)\n",
    "    train_df=train_df.merge(agg,how=\"left\",on=feature)\n",
    "    test=test.merge(agg,how=\"left\",on=feature)\n",
    "    del agg\n",
    "    gc.collect()"
   ]
  },
  {
   "cell_type": "markdown",
   "metadata": {},
   "source": [
    "### 1.2-Second level interaction "
   ]
  },
  {
   "cell_type": "code",
   "execution_count": 18,
   "metadata": {
    "collapsed": true
   },
   "outputs": [],
   "source": [
    "def target_encoding(data,feature,target=\"number_of_ticket\",agg_functions={\"mean\"}):\n",
    "    agg=data.groupby(feature)[target].agg(agg_functions)\n",
    "    agg.columns=[column+\"_per_{}_{}\".format(\"_\".join(feature),target) for column in  agg.columns.tolist()]\n",
    "    return agg  "
   ]
  },
  {
   "cell_type": "code",
   "execution_count": 19,
   "metadata": {
    "collapsed": true
   },
   "outputs": [],
   "source": [
    "Second_level_categorical_features=[ [\"hour\",\"dayofweek\"],\n",
    "            [\"hour\",\"travel_from\"],\n",
    "            [\"dayofweek\",\"travel_from\"] ,\n",
    "            [\"minute\",\"travel_from\"] ]\n",
    "\n"
   ]
  },
  {
   "cell_type": "code",
   "execution_count": 20,
   "metadata": {},
   "outputs": [
    {
     "data": {
      "text/html": [
       "<div>\n",
       "<style scoped>\n",
       "    .dataframe tbody tr th:only-of-type {\n",
       "        vertical-align: middle;\n",
       "    }\n",
       "\n",
       "    .dataframe tbody tr th {\n",
       "        vertical-align: top;\n",
       "    }\n",
       "\n",
       "    .dataframe thead th {\n",
       "        text-align: right;\n",
       "    }\n",
       "</style>\n",
       "<table border=\"1\" class=\"dataframe\">\n",
       "  <thead>\n",
       "    <tr style=\"text-align: right;\">\n",
       "      <th></th>\n",
       "      <th>ride_id</th>\n",
       "      <th>travel_date</th>\n",
       "      <th>travel_time</th>\n",
       "      <th>travel_from</th>\n",
       "      <th>car_type</th>\n",
       "      <th>max_capacity</th>\n",
       "      <th>number_of_ticket</th>\n",
       "      <th>date</th>\n",
       "      <th>dayofweek</th>\n",
       "      <th>dayofyear</th>\n",
       "      <th>...</th>\n",
       "      <th>mean_per_travel_from_number_of_ticket</th>\n",
       "      <th>std_per_travel_from_number_of_ticket</th>\n",
       "      <th>mean_per_minute_number_of_ticket</th>\n",
       "      <th>std_per_minute_number_of_ticket</th>\n",
       "      <th>mean_per_dayofweek_number_of_ticket</th>\n",
       "      <th>std_per_dayofweek_number_of_ticket</th>\n",
       "      <th>mean_per_hour_dayofweek_number_of_ticket</th>\n",
       "      <th>mean_per_hour_travel_from_number_of_ticket</th>\n",
       "      <th>mean_per_dayofweek_travel_from_number_of_ticket</th>\n",
       "      <th>mean_per_minute_travel_from_number_of_ticket</th>\n",
       "    </tr>\n",
       "  </thead>\n",
       "  <tbody>\n",
       "    <tr>\n",
       "      <th>0</th>\n",
       "      <td>1442</td>\n",
       "      <td>17-10-17</td>\n",
       "      <td>7:15</td>\n",
       "      <td>Migori</td>\n",
       "      <td>Bus</td>\n",
       "      <td>49</td>\n",
       "      <td>1</td>\n",
       "      <td>2017-10-17 07:15:00</td>\n",
       "      <td>1</td>\n",
       "      <td>290</td>\n",
       "      <td>...</td>\n",
       "      <td>18.204663</td>\n",
       "      <td>12.937696</td>\n",
       "      <td>12.850299</td>\n",
       "      <td>11.000344</td>\n",
       "      <td>8.475145</td>\n",
       "      <td>8.652480</td>\n",
       "      <td>8.965368</td>\n",
       "      <td>18.595376</td>\n",
       "      <td>17.714286</td>\n",
       "      <td>18.157407</td>\n",
       "    </tr>\n",
       "    <tr>\n",
       "      <th>1</th>\n",
       "      <td>5437</td>\n",
       "      <td>19-11-17</td>\n",
       "      <td>7:12</td>\n",
       "      <td>Migori</td>\n",
       "      <td>Bus</td>\n",
       "      <td>49</td>\n",
       "      <td>1</td>\n",
       "      <td>2017-11-19 07:12:00</td>\n",
       "      <td>6</td>\n",
       "      <td>323</td>\n",
       "      <td>...</td>\n",
       "      <td>18.204663</td>\n",
       "      <td>12.937696</td>\n",
       "      <td>22.264151</td>\n",
       "      <td>14.695411</td>\n",
       "      <td>8.462121</td>\n",
       "      <td>8.599534</td>\n",
       "      <td>9.092593</td>\n",
       "      <td>18.595376</td>\n",
       "      <td>18.346154</td>\n",
       "      <td>28.231405</td>\n",
       "    </tr>\n",
       "    <tr>\n",
       "      <th>2</th>\n",
       "      <td>5710</td>\n",
       "      <td>26-11-17</td>\n",
       "      <td>7:05</td>\n",
       "      <td>Keroka</td>\n",
       "      <td>Bus</td>\n",
       "      <td>49</td>\n",
       "      <td>1</td>\n",
       "      <td>2017-11-26 07:05:00</td>\n",
       "      <td>6</td>\n",
       "      <td>330</td>\n",
       "      <td>...</td>\n",
       "      <td>3.166667</td>\n",
       "      <td>3.267955</td>\n",
       "      <td>6.806338</td>\n",
       "      <td>5.850417</td>\n",
       "      <td>8.462121</td>\n",
       "      <td>8.599534</td>\n",
       "      <td>9.092593</td>\n",
       "      <td>2.271605</td>\n",
       "      <td>3.625000</td>\n",
       "      <td>2.250000</td>\n",
       "    </tr>\n",
       "    <tr>\n",
       "      <th>3</th>\n",
       "      <td>5777</td>\n",
       "      <td>27-11-17</td>\n",
       "      <td>7:10</td>\n",
       "      <td>Homa Bay</td>\n",
       "      <td>Bus</td>\n",
       "      <td>49</td>\n",
       "      <td>5</td>\n",
       "      <td>2017-11-27 07:10:00</td>\n",
       "      <td>0</td>\n",
       "      <td>331</td>\n",
       "      <td>...</td>\n",
       "      <td>17.707865</td>\n",
       "      <td>12.158301</td>\n",
       "      <td>5.980583</td>\n",
       "      <td>4.349472</td>\n",
       "      <td>8.409198</td>\n",
       "      <td>8.991864</td>\n",
       "      <td>9.145695</td>\n",
       "      <td>17.707865</td>\n",
       "      <td>17.018519</td>\n",
       "      <td>5.540000</td>\n",
       "    </tr>\n",
       "    <tr>\n",
       "      <th>4</th>\n",
       "      <td>5778</td>\n",
       "      <td>27-11-17</td>\n",
       "      <td>7:12</td>\n",
       "      <td>Migori</td>\n",
       "      <td>Bus</td>\n",
       "      <td>49</td>\n",
       "      <td>31</td>\n",
       "      <td>2017-11-27 07:12:00</td>\n",
       "      <td>0</td>\n",
       "      <td>331</td>\n",
       "      <td>...</td>\n",
       "      <td>18.204663</td>\n",
       "      <td>12.937696</td>\n",
       "      <td>22.264151</td>\n",
       "      <td>14.695411</td>\n",
       "      <td>8.409198</td>\n",
       "      <td>8.991864</td>\n",
       "      <td>9.145695</td>\n",
       "      <td>18.595376</td>\n",
       "      <td>17.314815</td>\n",
       "      <td>28.231405</td>\n",
       "    </tr>\n",
       "  </tbody>\n",
       "</table>\n",
       "<p>5 rows × 30 columns</p>\n",
       "</div>"
      ],
      "text/plain": [
       "   ride_id travel_date travel_time travel_from car_type  max_capacity  \\\n",
       "0     1442    17-10-17        7:15      Migori      Bus            49   \n",
       "1     5437    19-11-17        7:12      Migori      Bus            49   \n",
       "2     5710    26-11-17        7:05      Keroka      Bus            49   \n",
       "3     5777    27-11-17        7:10    Homa Bay      Bus            49   \n",
       "4     5778    27-11-17        7:12      Migori      Bus            49   \n",
       "\n",
       "   number_of_ticket                date  dayofweek  dayofyear  \\\n",
       "0                 1 2017-10-17 07:15:00          1        290   \n",
       "1                 1 2017-11-19 07:12:00          6        323   \n",
       "2                 1 2017-11-26 07:05:00          6        330   \n",
       "3                 5 2017-11-27 07:10:00          0        331   \n",
       "4                31 2017-11-27 07:12:00          0        331   \n",
       "\n",
       "                       ...                       \\\n",
       "0                      ...                        \n",
       "1                      ...                        \n",
       "2                      ...                        \n",
       "3                      ...                        \n",
       "4                      ...                        \n",
       "\n",
       "   mean_per_travel_from_number_of_ticket std_per_travel_from_number_of_ticket  \\\n",
       "0                              18.204663                            12.937696   \n",
       "1                              18.204663                            12.937696   \n",
       "2                               3.166667                             3.267955   \n",
       "3                              17.707865                            12.158301   \n",
       "4                              18.204663                            12.937696   \n",
       "\n",
       "   mean_per_minute_number_of_ticket  std_per_minute_number_of_ticket  \\\n",
       "0                         12.850299                        11.000344   \n",
       "1                         22.264151                        14.695411   \n",
       "2                          6.806338                         5.850417   \n",
       "3                          5.980583                         4.349472   \n",
       "4                         22.264151                        14.695411   \n",
       "\n",
       "   mean_per_dayofweek_number_of_ticket  std_per_dayofweek_number_of_ticket  \\\n",
       "0                             8.475145                            8.652480   \n",
       "1                             8.462121                            8.599534   \n",
       "2                             8.462121                            8.599534   \n",
       "3                             8.409198                            8.991864   \n",
       "4                             8.409198                            8.991864   \n",
       "\n",
       "   mean_per_hour_dayofweek_number_of_ticket  \\\n",
       "0                                  8.965368   \n",
       "1                                  9.092593   \n",
       "2                                  9.092593   \n",
       "3                                  9.145695   \n",
       "4                                  9.145695   \n",
       "\n",
       "   mean_per_hour_travel_from_number_of_ticket  \\\n",
       "0                                   18.595376   \n",
       "1                                   18.595376   \n",
       "2                                    2.271605   \n",
       "3                                   17.707865   \n",
       "4                                   18.595376   \n",
       "\n",
       "   mean_per_dayofweek_travel_from_number_of_ticket  \\\n",
       "0                                        17.714286   \n",
       "1                                        18.346154   \n",
       "2                                         3.625000   \n",
       "3                                        17.018519   \n",
       "4                                        17.314815   \n",
       "\n",
       "   mean_per_minute_travel_from_number_of_ticket  \n",
       "0                                     18.157407  \n",
       "1                                     28.231405  \n",
       "2                                      2.250000  \n",
       "3                                      5.540000  \n",
       "4                                     28.231405  \n",
       "\n",
       "[5 rows x 30 columns]"
      ]
     },
     "execution_count": 20,
     "metadata": {},
     "output_type": "execute_result"
    }
   ],
   "source": [
    "train_df.head()"
   ]
  },
  {
   "cell_type": "code",
   "execution_count": 21,
   "metadata": {},
   "outputs": [
    {
     "data": {
      "text/html": [
       "<div>\n",
       "<style scoped>\n",
       "    .dataframe tbody tr th:only-of-type {\n",
       "        vertical-align: middle;\n",
       "    }\n",
       "\n",
       "    .dataframe tbody tr th {\n",
       "        vertical-align: top;\n",
       "    }\n",
       "\n",
       "    .dataframe thead th {\n",
       "        text-align: right;\n",
       "    }\n",
       "</style>\n",
       "<table border=\"1\" class=\"dataframe\">\n",
       "  <thead>\n",
       "    <tr style=\"text-align: right;\">\n",
       "      <th></th>\n",
       "      <th>ride_id</th>\n",
       "      <th>travel_date</th>\n",
       "      <th>travel_time</th>\n",
       "      <th>travel_from</th>\n",
       "      <th>car_type</th>\n",
       "      <th>max_capacity</th>\n",
       "      <th>date</th>\n",
       "      <th>dayofweek</th>\n",
       "      <th>hour</th>\n",
       "      <th>minute</th>\n",
       "      <th>...</th>\n",
       "      <th>mean_per_travel_from_number_of_ticket</th>\n",
       "      <th>std_per_travel_from_number_of_ticket</th>\n",
       "      <th>mean_per_minute_number_of_ticket</th>\n",
       "      <th>std_per_minute_number_of_ticket</th>\n",
       "      <th>mean_per_dayofweek_number_of_ticket</th>\n",
       "      <th>std_per_dayofweek_number_of_ticket</th>\n",
       "      <th>mean_per_hour_dayofweek_number_of_ticket</th>\n",
       "      <th>mean_per_hour_travel_from_number_of_ticket</th>\n",
       "      <th>mean_per_dayofweek_travel_from_number_of_ticket</th>\n",
       "      <th>mean_per_minute_travel_from_number_of_ticket</th>\n",
       "    </tr>\n",
       "  </thead>\n",
       "  <tbody>\n",
       "    <tr>\n",
       "      <th>0</th>\n",
       "      <td>247</td>\n",
       "      <td>2018-05-07</td>\n",
       "      <td>07:06</td>\n",
       "      <td>Kisii</td>\n",
       "      <td>Bus</td>\n",
       "      <td>49</td>\n",
       "      <td>2018-05-07 07:06:00</td>\n",
       "      <td>0</td>\n",
       "      <td>7</td>\n",
       "      <td>6</td>\n",
       "      <td>...</td>\n",
       "      <td>7.485762</td>\n",
       "      <td>5.098253</td>\n",
       "      <td>5.943925</td>\n",
       "      <td>7.734458</td>\n",
       "      <td>8.409198</td>\n",
       "      <td>8.991864</td>\n",
       "      <td>9.145695</td>\n",
       "      <td>7.831021</td>\n",
       "      <td>7.665854</td>\n",
       "      <td>9.800000</td>\n",
       "    </tr>\n",
       "    <tr>\n",
       "      <th>1</th>\n",
       "      <td>256</td>\n",
       "      <td>2018-05-06</td>\n",
       "      <td>11:08</td>\n",
       "      <td>Kisii</td>\n",
       "      <td>shuttle</td>\n",
       "      <td>11</td>\n",
       "      <td>2018-05-06 11:08:00</td>\n",
       "      <td>6</td>\n",
       "      <td>11</td>\n",
       "      <td>8</td>\n",
       "      <td>...</td>\n",
       "      <td>7.485762</td>\n",
       "      <td>5.098253</td>\n",
       "      <td>9.057229</td>\n",
       "      <td>8.158904</td>\n",
       "      <td>8.462121</td>\n",
       "      <td>8.599534</td>\n",
       "      <td>8.122449</td>\n",
       "      <td>7.463415</td>\n",
       "      <td>7.641949</td>\n",
       "      <td>4.074074</td>\n",
       "    </tr>\n",
       "    <tr>\n",
       "      <th>2</th>\n",
       "      <td>275</td>\n",
       "      <td>2018-05-04</td>\n",
       "      <td>05:00</td>\n",
       "      <td>Kisii</td>\n",
       "      <td>shuttle</td>\n",
       "      <td>11</td>\n",
       "      <td>2018-05-04 05:00:00</td>\n",
       "      <td>4</td>\n",
       "      <td>5</td>\n",
       "      <td>0</td>\n",
       "      <td>...</td>\n",
       "      <td>7.485762</td>\n",
       "      <td>5.098253</td>\n",
       "      <td>6.945166</td>\n",
       "      <td>7.504519</td>\n",
       "      <td>8.675573</td>\n",
       "      <td>8.407693</td>\n",
       "      <td>2.876923</td>\n",
       "      <td>3.156627</td>\n",
       "      <td>7.828473</td>\n",
       "      <td>6.404206</td>\n",
       "    </tr>\n",
       "    <tr>\n",
       "      <th>3</th>\n",
       "      <td>285</td>\n",
       "      <td>2018-05-04</td>\n",
       "      <td>09:10</td>\n",
       "      <td>Kisii</td>\n",
       "      <td>shuttle</td>\n",
       "      <td>11</td>\n",
       "      <td>2018-05-04 09:10:00</td>\n",
       "      <td>4</td>\n",
       "      <td>9</td>\n",
       "      <td>10</td>\n",
       "      <td>...</td>\n",
       "      <td>7.485762</td>\n",
       "      <td>5.098253</td>\n",
       "      <td>5.980583</td>\n",
       "      <td>4.349472</td>\n",
       "      <td>8.675573</td>\n",
       "      <td>8.407693</td>\n",
       "      <td>8.629630</td>\n",
       "      <td>8.288018</td>\n",
       "      <td>7.828473</td>\n",
       "      <td>7.439597</td>\n",
       "    </tr>\n",
       "    <tr>\n",
       "      <th>4</th>\n",
       "      <td>286</td>\n",
       "      <td>2018-05-04</td>\n",
       "      <td>09:20</td>\n",
       "      <td>Kisii</td>\n",
       "      <td>shuttle</td>\n",
       "      <td>11</td>\n",
       "      <td>2018-05-04 09:20:00</td>\n",
       "      <td>4</td>\n",
       "      <td>9</td>\n",
       "      <td>20</td>\n",
       "      <td>...</td>\n",
       "      <td>7.485762</td>\n",
       "      <td>5.098253</td>\n",
       "      <td>6.716981</td>\n",
       "      <td>4.010635</td>\n",
       "      <td>8.675573</td>\n",
       "      <td>8.407693</td>\n",
       "      <td>8.629630</td>\n",
       "      <td>8.288018</td>\n",
       "      <td>7.828473</td>\n",
       "      <td>7.838235</td>\n",
       "    </tr>\n",
       "  </tbody>\n",
       "</table>\n",
       "<p>5 rows × 29 columns</p>\n",
       "</div>"
      ],
      "text/plain": [
       "   ride_id travel_date travel_time travel_from car_type  max_capacity  \\\n",
       "0      247  2018-05-07       07:06       Kisii      Bus            49   \n",
       "1      256  2018-05-06       11:08       Kisii  shuttle            11   \n",
       "2      275  2018-05-04       05:00       Kisii  shuttle            11   \n",
       "3      285  2018-05-04       09:10       Kisii  shuttle            11   \n",
       "4      286  2018-05-04       09:20       Kisii  shuttle            11   \n",
       "\n",
       "                 date  dayofweek  hour  minute  \\\n",
       "0 2018-05-07 07:06:00          0     7       6   \n",
       "1 2018-05-06 11:08:00          6    11       8   \n",
       "2 2018-05-04 05:00:00          4     5       0   \n",
       "3 2018-05-04 09:10:00          4     9      10   \n",
       "4 2018-05-04 09:20:00          4     9      20   \n",
       "\n",
       "                       ...                       \\\n",
       "0                      ...                        \n",
       "1                      ...                        \n",
       "2                      ...                        \n",
       "3                      ...                        \n",
       "4                      ...                        \n",
       "\n",
       "   mean_per_travel_from_number_of_ticket  \\\n",
       "0                               7.485762   \n",
       "1                               7.485762   \n",
       "2                               7.485762   \n",
       "3                               7.485762   \n",
       "4                               7.485762   \n",
       "\n",
       "   std_per_travel_from_number_of_ticket  mean_per_minute_number_of_ticket  \\\n",
       "0                              5.098253                          5.943925   \n",
       "1                              5.098253                          9.057229   \n",
       "2                              5.098253                          6.945166   \n",
       "3                              5.098253                          5.980583   \n",
       "4                              5.098253                          6.716981   \n",
       "\n",
       "  std_per_minute_number_of_ticket  mean_per_dayofweek_number_of_ticket  \\\n",
       "0                        7.734458                             8.409198   \n",
       "1                        8.158904                             8.462121   \n",
       "2                        7.504519                             8.675573   \n",
       "3                        4.349472                             8.675573   \n",
       "4                        4.010635                             8.675573   \n",
       "\n",
       "   std_per_dayofweek_number_of_ticket  \\\n",
       "0                            8.991864   \n",
       "1                            8.599534   \n",
       "2                            8.407693   \n",
       "3                            8.407693   \n",
       "4                            8.407693   \n",
       "\n",
       "   mean_per_hour_dayofweek_number_of_ticket  \\\n",
       "0                                  9.145695   \n",
       "1                                  8.122449   \n",
       "2                                  2.876923   \n",
       "3                                  8.629630   \n",
       "4                                  8.629630   \n",
       "\n",
       "   mean_per_hour_travel_from_number_of_ticket  \\\n",
       "0                                    7.831021   \n",
       "1                                    7.463415   \n",
       "2                                    3.156627   \n",
       "3                                    8.288018   \n",
       "4                                    8.288018   \n",
       "\n",
       "   mean_per_dayofweek_travel_from_number_of_ticket  \\\n",
       "0                                         7.665854   \n",
       "1                                         7.641949   \n",
       "2                                         7.828473   \n",
       "3                                         7.828473   \n",
       "4                                         7.828473   \n",
       "\n",
       "   mean_per_minute_travel_from_number_of_ticket  \n",
       "0                                      9.800000  \n",
       "1                                      4.074074  \n",
       "2                                      6.404206  \n",
       "3                                      7.439597  \n",
       "4                                      7.838235  \n",
       "\n",
       "[5 rows x 29 columns]"
      ]
     },
     "execution_count": 21,
     "metadata": {},
     "output_type": "execute_result"
    }
   ],
   "source": [
    "test.head()"
   ]
  },
  {
   "cell_type": "markdown",
   "metadata": {},
   "source": [
    "## 2-time interval separating rides "
   ]
  },
  {
   "cell_type": "code",
   "execution_count": 22,
   "metadata": {},
   "outputs": [
    {
     "name": "stderr",
     "output_type": "stream",
     "text": [
      "/usr/local/lib/python3.5/dist-packages/ipykernel_launcher.py:4: FutureWarning: Sorting because non-concatenation axis is not aligned. A future version\n",
      "of pandas will change to not sort by default.\n",
      "\n",
      "To accept the future behavior, pass 'sort=False'.\n",
      "\n",
      "To retain the current behavior and silence the warning, pass 'sort=True'.\n",
      "\n",
      "  after removing the cwd from sys.path.\n"
     ]
    }
   ],
   "source": [
    "# in this step we need to concat the train and the test set \n",
    "test[\"train\"]=0\n",
    "train_df[\"train\"]=1\n",
    "data=pd.concat([test,train_df])\n",
    "# sort the data with  travel from and date  \n",
    "data.sort_values([\"travel_from\",\"date\"],inplace=True,ascending=True)"
   ]
  },
  {
   "cell_type": "code",
   "execution_count": 23,
   "metadata": {
    "collapsed": true
   },
   "outputs": [],
   "source": [
    "# time interval separating this ride’s bus and the next bus\n",
    "data[\"diff_btw_0_1_next_bus\"]=(data[\"date\"]-data.groupby([\"travel_from\"]).date.shift(-1)).dt.total_seconds()/60/60\n",
    "# time interval separating this ride’s bus and the previous bus\n",
    "data[\"diff_btw_0_1_previous_bus\"]=(data[\"date\"]-data.groupby([\"travel_from\"]).date.shift(1)).dt.total_seconds()/60/60\n",
    "# time interval separating this ride’s bus and the following bus to the next bus.\n",
    "data[\"diff_btw_0_2_next_bus\"]=\n",
    "# time interval separating this ride’s bus and the bus before the previous bus.\n",
    "data[\"diff_btw_0_2_previous_bus\"]=\n",
    "# time interval separating this ride’s bus and 3rd following it.\n",
    "data[\"diff_btw_0_3_next_bus\"]=\n",
    "# time interval separating the next ride's bus and  the bus before  .\n",
    "data[\"diff_btw_next_previous_bus\"]=\n",
    "# fill the nan values \n",
    "fea=['diff_btw_0_1_next_bus', 'diff_btw_0_1_previous_bus', 'diff_btw_0_2_next_bus', 'diff_btw_0_2_previous_bus',\n",
    "     'diff_btw_0_3_next_bus','diff_btw_next_previous_bus']\n",
    "data[fea]=data.groupby([\"travel_from\"])[fea].fillna(method=\"ffill\")\n",
    "data[fea]=data.groupby([\"travel_from\"])[fea].fillna(method=\"backfill\")\n"
   ]
  },
  {
   "cell_type": "markdown",
   "metadata": {},
   "source": [
    "## 3-Number of rides per X time coming to Nairobi. "
   ]
  },
  {
   "cell_type": "code",
   "execution_count": 24,
   "metadata": {
    "collapsed": true
   },
   "outputs": [],
   "source": [
    "for time  in [1,3,5,7,10,15] : \n",
    "    data[\"count_trip_per_{}min\".format(str(time))]=data.groupby([pd.Grouper(key=\"date\",freq='{}min'.format(time))]).ride_id.transform(\"count\")"
   ]
  },
  {
   "cell_type": "markdown",
   "metadata": {},
   "source": [
    "## 4-Number of rides per X time coming from each city "
   ]
  },
  {
   "cell_type": "code",
   "execution_count": 25,
   "metadata": {
    "collapsed": true
   },
   "outputs": [],
   "source": [
    "for i in [1,3,5,7,10,15] :\n",
    "    data[\"count_trip_per_{}min_travel_from\".format(str(i))]="
   ]
  },
  {
   "cell_type": "markdown",
   "metadata": {},
   "source": [
    "## 5-Distance and Trip Duration "
   ]
  },
  {
   "cell_type": "code",
   "execution_count": 26,
   "metadata": {
    "collapsed": true
   },
   "outputs": [],
   "source": [
    "distance = {'Migori': 372 , 'Keroka': 281, 'Homa Bay':364, 'Kisii':305.1, 'Keumbu':295, 'Rongo':332,\n",
    "'Kijauri':271, 'Oyugis':330.6, 'Awendo':351, 'Sirare':392, 'Nyachenge':326, 'Kehancha': 387.7,\n",
    "'Kendu Bay':347, 'Sori':399, 'Rodi':348, 'Mbita':401, 'Ndhiwa': 371}\n",
    "# map travel from column with distance\n",
    "data[\"travel_from_distance\"]="
   ]
  },
  {
   "cell_type": "code",
   "execution_count": 27,
   "metadata": {
    "collapsed": true
   },
   "outputs": [],
   "source": [
    "time = {'Migori': 7*60+8 , 'Keroka': 5*60, 'Homa Bay':7*60, 'Kisii':5*60+34, 'Keumbu':5*60+20, 'Rongo':6*60+21,\n",
    "'Kijauri':60*4+50,'Oyugis':5*60+50, 'Awendo':6*60+38, 'Sirare':7*60+30, 'Nyachenge':6*60+10, 'Kehancha':7*60+10,\n",
    "'Kendu Bay':6*60+10, 'Sori':7*60+30, 'Rodi':6*60+40, 'Mbita':7*60+23, 'Ndhiwa': 7*60}\n",
    "# map travel from column with time\n",
    "data[\"travel_from_time\"]="
   ]
  },
  {
   "cell_type": "code",
   "execution_count": 93,
   "metadata": {
    "collapsed": true
   },
   "outputs": [],
   "source": [
    "# Split data to train_df and test\n",
    "train_df=\n",
    "test="
   ]
  },
  {
   "cell_type": "code",
   "execution_count": 94,
   "metadata": {
    "collapsed": true
   },
   "outputs": [],
   "source": [
    "# reset index \n",
    "train_df.reset_index(inplace=True,drop=True)\n",
    "test."
   ]
  },
  {
   "cell_type": "markdown",
   "metadata": {
    "colab_type": "text",
    "id": "xRCLH2ZAyw0R"
   },
   "source": [
    "# Modeling "
   ]
  },
  {
   "cell_type": "code",
   "execution_count": 95,
   "metadata": {},
   "outputs": [
    {
     "data": {
      "text/plain": [
       "Index(['car_type', 'date', 'dayofmonth', 'dayofweek', 'dayofyear', 'hour',\n",
       "       'is_weekend', 'max_capacity', 'mean_per_dayofweek_number_of_ticket',\n",
       "       'mean_per_dayofweek_travel_from_number_of_ticket',\n",
       "       'mean_per_hour_dayofweek_number_of_ticket',\n",
       "       'mean_per_hour_number_of_ticket',\n",
       "       'mean_per_hour_travel_from_number_of_ticket',\n",
       "       'mean_per_minute_number_of_ticket',\n",
       "       'mean_per_minute_travel_from_number_of_ticket',\n",
       "       'mean_per_travel_from_number_of_ticket', 'minute', 'month',\n",
       "       'number_of_ticket', 'quarter', 'ride_id',\n",
       "       'std_per_dayofweek_number_of_ticket', 'std_per_hour_number_of_ticket',\n",
       "       'std_per_minute_number_of_ticket',\n",
       "       'std_per_travel_from_number_of_ticket', 'train', 'travel_date',\n",
       "       'travel_from', 'travel_time', 'year', 'year_woy',\n",
       "       'diff_btw_0_1_next_bus', 'diff_btw_0_1_previous_bus',\n",
       "       'diff_btw_0_2_next_bus', 'diff_btw_0_2_previous_bus',\n",
       "       'diff_btw_0_3_next_bus', 'diff_btw_next_previous_bus',\n",
       "       'count_trip_per_1min', 'count_trip_per_3min', 'count_trip_per_5min',\n",
       "       'count_trip_per_7min', 'count_trip_per_10min', 'count_trip_per_15min',\n",
       "       'count_trip_per_1min_travel_from', 'count_trip_per_3min_travel_from',\n",
       "       'count_trip_per_5min_travel_from', 'count_trip_per_7min_travel_from',\n",
       "       'count_trip_per_10min_travel_from', 'count_trip_per_15min_travel_from',\n",
       "       'travel_from_distance', 'travel_from_time'],\n",
       "      dtype='object')"
      ]
     },
     "execution_count": 95,
     "metadata": {},
     "output_type": "execute_result"
    }
   ],
   "source": [
    "train_df.columns"
   ]
  },
  {
   "cell_type": "code",
   "execution_count": 96,
   "metadata": {},
   "outputs": [
    {
     "data": {
      "text/plain": [
       "['hour',\n",
       " 'is_weekend',\n",
       " 'max_capacity',\n",
       " 'mean_per_dayofweek_number_of_ticket',\n",
       " 'mean_per_dayofweek_travel_from_number_of_ticket',\n",
       " 'mean_per_hour_dayofweek_number_of_ticket',\n",
       " 'mean_per_hour_number_of_ticket',\n",
       " 'mean_per_hour_travel_from_number_of_ticket',\n",
       " 'mean_per_minute_number_of_ticket',\n",
       " 'mean_per_minute_travel_from_number_of_ticket',\n",
       " 'mean_per_travel_from_number_of_ticket',\n",
       " 'minute',\n",
       " 'std_per_dayofweek_number_of_ticket',\n",
       " 'std_per_hour_number_of_ticket',\n",
       " 'std_per_minute_number_of_ticket',\n",
       " 'std_per_travel_from_number_of_ticket',\n",
       " 'diff_btw_0_1_next_bus',\n",
       " 'diff_btw_0_1_previous_bus',\n",
       " 'diff_btw_0_2_next_bus',\n",
       " 'diff_btw_0_2_previous_bus',\n",
       " 'diff_btw_0_3_next_bus',\n",
       " 'diff_btw_next_previous_bus',\n",
       " 'count_trip_per_1min',\n",
       " 'count_trip_per_3min',\n",
       " 'count_trip_per_5min',\n",
       " 'count_trip_per_7min',\n",
       " 'count_trip_per_10min',\n",
       " 'count_trip_per_15min',\n",
       " 'count_trip_per_1min_travel_from',\n",
       " 'count_trip_per_3min_travel_from',\n",
       " 'count_trip_per_5min_travel_from',\n",
       " 'count_trip_per_7min_travel_from',\n",
       " 'count_trip_per_10min_travel_from',\n",
       " 'count_trip_per_15min_travel_from',\n",
       " 'travel_from_distance',\n",
       " 'travel_from_time']"
      ]
     },
     "execution_count": 96,
     "metadata": {},
     "output_type": "execute_result"
    }
   ],
   "source": [
    "Col_to_drop=[ 'date', 'dayofmonth', 'dayofweek', 'dayofyear',\"number_of_ticket\",\"car_type\",\n",
    "            \"travel_date\", \"travel_from\", \"travel_time\", \"year_woy\",\"ride_id\",\"quarter\",\"month\",\"year\",\"train\"]\n",
    "features_name=train_df.drop(Col_to_drop,axis=1).columns.tolist()\n",
    "features_name"
   ]
  },
  {
   "cell_type": "markdown",
   "metadata": {},
   "source": [
    "## 1-Sample Validation "
   ]
  },
  {
   "cell_type": "code",
   "execution_count": 98,
   "metadata": {},
   "outputs": [
    {
     "name": "stdout",
     "output_type": "stream",
     "text": [
      "Train  (5624, 36)\n",
      "Val  (625, 36)\n",
      "Test  (1111, 36)\n"
     ]
    }
   ],
   "source": [
    "# Split train to Train and Val with test_size = 0.1 and random_state=5248\n",
    "Train,Val=\n",
    "# remove useless columns  for train set\n",
    "X_train=\n",
    "Y_train=\n",
    "# remove useless columns  for val set\n",
    "X_val=\n",
    "Y_val=\n",
    "# remove useless columns  for test set\n",
    "X_test=\n",
    "print( \"Train \", X_train.shape)\n",
    "print( \"Val \", X_val.shape)\n",
    "print( \"Test \", X_test.shape)\n",
    "assert X_train.shape[1]== 36\n",
    "assert X_val.shape[1]== 36\n",
    "assert X_test.shape[1]== 36"
   ]
  },
  {
   "cell_type": "code",
   "execution_count": 4,
   "metadata": {
    "collapsed": true
   },
   "outputs": [],
   "source": [
    "# Define function to train our data in one fold wich take train, validation, test data and return the prediction of the train, validation and test"
   ]
  },
  {
   "cell_type": "code",
   "execution_count": 100,
   "metadata": {
    "collapsed": true
   },
   "outputs": [],
   "source": [
    "def train_model(X_train,Y_train,X_val,Y_val,X_test,parmaters,features_name): \n",
    "    d_train = xgb.DMatrix(X_train, Y_train,feature_names=features_name)\n",
    "    d_valid = xgb.DMatrix(X_val, Y_val,feature_names=features_name)\n",
    "    d_test = xgb.DMatrix(X_test,feature_names=features_name)\n",
    "    list_track = [(d_train, 'train'), (d_valid, 'valid')]\n",
    "    model = xgb.train(parmaters, d_train, 2000,  list_track, maximize=False, verbose_eval=50, early_stopping_rounds=50)\n",
    "    train_pred =model.predict(d_train)              \n",
    "    valid_pred =model.predict(d_valid)   \n",
    "    test_pred = model.predict(d_test)\n",
    "    return train_pred ,valid_pred,test_pred"
   ]
  },
  {
   "cell_type": "code",
   "execution_count": 101,
   "metadata": {},
   "outputs": [
    {
     "name": "stdout",
     "output_type": "stream",
     "text": [
      "[0]\ttrain-rmse:11.5944\tvalid-rmse:11.3898\n",
      "Multiple eval metrics have been passed: 'valid-rmse' will be used for early stopping.\n",
      "\n",
      "Will train until valid-rmse hasn't improved in 50 rounds.\n",
      "[50]\ttrain-rmse:9.93348\tvalid-rmse:9.85657\n",
      "[100]\ttrain-rmse:8.60146\tvalid-rmse:8.65181\n",
      "[150]\ttrain-rmse:7.53908\tvalid-rmse:7.71424\n",
      "[200]\ttrain-rmse:6.69684\tvalid-rmse:6.99404\n",
      "[250]\ttrain-rmse:6.02357\tvalid-rmse:6.43927\n",
      "[300]\ttrain-rmse:5.49112\tvalid-rmse:6.03189\n",
      "[350]\ttrain-rmse:5.06474\tvalid-rmse:5.7285\n",
      "[400]\ttrain-rmse:4.71988\tvalid-rmse:5.50828\n",
      "[450]\ttrain-rmse:4.43734\tvalid-rmse:5.34112\n",
      "[500]\ttrain-rmse:4.20524\tvalid-rmse:5.22201\n",
      "[550]\ttrain-rmse:4.01272\tvalid-rmse:5.1296\n",
      "[600]\ttrain-rmse:3.84983\tvalid-rmse:5.06214\n",
      "[650]\ttrain-rmse:3.71135\tvalid-rmse:5.01263\n",
      "[700]\ttrain-rmse:3.59019\tvalid-rmse:4.97637\n",
      "[750]\ttrain-rmse:3.48219\tvalid-rmse:4.94943\n",
      "[800]\ttrain-rmse:3.38521\tvalid-rmse:4.92805\n",
      "[850]\ttrain-rmse:3.29846\tvalid-rmse:4.9143\n",
      "[900]\ttrain-rmse:3.22114\tvalid-rmse:4.90465\n",
      "[950]\ttrain-rmse:3.14994\tvalid-rmse:4.89873\n",
      "[1000]\ttrain-rmse:3.08426\tvalid-rmse:4.89302\n",
      "[1050]\ttrain-rmse:3.02512\tvalid-rmse:4.88811\n",
      "[1100]\ttrain-rmse:2.96737\tvalid-rmse:4.88236\n",
      "[1150]\ttrain-rmse:2.91431\tvalid-rmse:4.88263\n",
      "Stopping. Best iteration:\n",
      "[1121]\ttrain-rmse:2.94424\tvalid-rmse:4.88032\n",
      "\n"
     ]
    }
   ],
   "source": [
    "params = {'eta': 0.004, 'colsample_bytree': 0.7, \n",
    "               'max_depth': 9,'subsample': 0.9, 'lambda': 4, 'nthread': 8, 'booster' : 'gbtree', 'silent': 1,\n",
    "               'eval_metric': 'rmse', 'objective': 'reg:linear',\"gamma\":0.1 ,\"alpha\":0.01} \n",
    "# Train the data with Xgboost model using train_model funcation \n",
    "train_pred ,valid_pred,test_pred="
   ]
  },
  {
   "cell_type": "code",
   "execution_count": 102,
   "metadata": {},
   "outputs": [
    {
     "name": "stdout",
     "output_type": "stream",
     "text": [
      "Train  mean_absolute_error 1.8984512892971677\n",
      "Validation   mean_absolute_error 3.0016544120788575\n"
     ]
    }
   ],
   "source": [
    "print(\"Train \",mean_absolute_error.__name__ , mean_absolute_error(Y_train,train_pred))\n",
    "print(\"Validation  \",mean_absolute_error.__name__ , mean_absolute_error(Y_val,valid_pred))"
   ]
  },
  {
   "cell_type": "markdown",
   "metadata": {},
   "source": [
    "## 2- Kfold Validation strategy"
   ]
  },
  {
   "cell_type": "code",
   "execution_count": 103,
   "metadata": {
    "collapsed": true
   },
   "outputs": [],
   "source": [
    "def train_kfold(X_train,Y_train,X_test,parmaters,features_name,split=5):\n",
    "    final_train_pred=np.zeros_like(Y_train)\n",
    "    final_test_pred=np.zeros(len(X_test))\n",
    " \n",
    "    \n",
    "    kf = KFold(n_splits=split,random_state=2222)\n",
    "    i=1\n",
    "    for train_index, val_index in kf.split(X_train):\n",
    "        print(\"fold:\"+str(i))\n",
    "        train_fold_features, val_fold_features = X_train.loc[train_index], X_train.loc[val_index]\n",
    "        train_fold_target, val_fold_target = Y_train.loc[train_index], Y_train.loc[val_index] \n",
    "        train_pred ,valid_pred,test_pred=train_model( \n",
    "                                                        X_train=train_fold_features,\n",
    "                                                        Y_train= train_fold_target,\n",
    "                                                        X_val= val_fold_features,\n",
    "                                                        Y_val= val_fold_target,\n",
    "                                                        X_test= X_test,\n",
    "                                                        parmaters=parmaters,\n",
    "                                                        features_name=features_name \n",
    "                                                    )\n",
    "        \n",
    "        final_train_pred[val_index]=valid_pred\n",
    "        final_test_pred=final_test_pred+test_pred/split\n",
    "        i=i+1\n",
    "    return final_train_pred,final_test_pred\n"
   ]
  },
  {
   "cell_type": "code",
   "execution_count": 104,
   "metadata": {},
   "outputs": [
    {
     "name": "stdout",
     "output_type": "stream",
     "text": [
      "(6249, 36)\n",
      "(6249,)\n"
     ]
    }
   ],
   "source": [
    "Train=\n",
    "Y_train=\n",
    "print( Train.shape)\n",
    "print( Y_train.shape)\n",
    "assert len(Train)==len(Y_train)\n",
    "assert len(Train)==6249"
   ]
  },
  {
   "cell_type": "code",
   "execution_count": 105,
   "metadata": {},
   "outputs": [
    {
     "name": "stdout",
     "output_type": "stream",
     "text": [
      "fold:1\n",
      "[0]\ttrain-rmse:10.6854\tvalid-rmse:17.6874\n",
      "Multiple eval metrics have been passed: 'valid-rmse' will be used for early stopping.\n",
      "\n",
      "Will train until valid-rmse hasn't improved in 50 rounds.\n",
      "[50]\ttrain-rmse:9.17378\tvalid-rmse:16.2603\n",
      "[100]\ttrain-rmse:7.96434\tvalid-rmse:15.2902\n",
      "[150]\ttrain-rmse:6.99912\tvalid-rmse:14.313\n",
      "[200]\ttrain-rmse:6.23044\tvalid-rmse:13.4974\n",
      "[250]\ttrain-rmse:5.61822\tvalid-rmse:12.8371\n",
      "[300]\ttrain-rmse:5.12844\tvalid-rmse:12.2615\n",
      "[350]\ttrain-rmse:4.74343\tvalid-rmse:11.8233\n",
      "[400]\ttrain-rmse:4.43018\tvalid-rmse:11.4684\n",
      "[450]\ttrain-rmse:4.17228\tvalid-rmse:11.1862\n",
      "[500]\ttrain-rmse:3.96056\tvalid-rmse:10.939\n",
      "[550]\ttrain-rmse:3.78025\tvalid-rmse:10.751\n",
      "[600]\ttrain-rmse:3.62758\tvalid-rmse:10.5877\n",
      "[650]\ttrain-rmse:3.49636\tvalid-rmse:10.4574\n",
      "[700]\ttrain-rmse:3.38003\tvalid-rmse:10.3355\n",
      "[750]\ttrain-rmse:3.27686\tvalid-rmse:10.2435\n",
      "[800]\ttrain-rmse:3.18787\tvalid-rmse:10.161\n",
      "[850]\ttrain-rmse:3.10868\tvalid-rmse:10.0859\n",
      "[900]\ttrain-rmse:3.0348\tvalid-rmse:10.0187\n",
      "[950]\ttrain-rmse:2.96896\tvalid-rmse:9.97516\n",
      "[1000]\ttrain-rmse:2.90573\tvalid-rmse:9.93107\n",
      "[1050]\ttrain-rmse:2.85148\tvalid-rmse:9.89739\n",
      "[1100]\ttrain-rmse:2.80137\tvalid-rmse:9.86561\n",
      "[1150]\ttrain-rmse:2.7559\tvalid-rmse:9.84049\n",
      "[1200]\ttrain-rmse:2.71394\tvalid-rmse:9.822\n",
      "[1250]\ttrain-rmse:2.67463\tvalid-rmse:9.80133\n",
      "[1300]\ttrain-rmse:2.63764\tvalid-rmse:9.78625\n",
      "[1350]\ttrain-rmse:2.6009\tvalid-rmse:9.77061\n",
      "[1400]\ttrain-rmse:2.56743\tvalid-rmse:9.76641\n",
      "[1450]\ttrain-rmse:2.53464\tvalid-rmse:9.7535\n",
      "[1500]\ttrain-rmse:2.50215\tvalid-rmse:9.74143\n",
      "[1550]\ttrain-rmse:2.47535\tvalid-rmse:9.73084\n",
      "[1600]\ttrain-rmse:2.44724\tvalid-rmse:9.72418\n",
      "[1650]\ttrain-rmse:2.42\tvalid-rmse:9.71341\n",
      "[1700]\ttrain-rmse:2.39391\tvalid-rmse:9.70964\n",
      "[1750]\ttrain-rmse:2.37193\tvalid-rmse:9.70911\n",
      "[1800]\ttrain-rmse:2.34863\tvalid-rmse:9.70404\n",
      "Stopping. Best iteration:\n",
      "[1786]\ttrain-rmse:2.35516\tvalid-rmse:9.70172\n",
      "\n",
      "fold:2\n",
      "[0]\ttrain-rmse:12.0238\tvalid-rmse:6.19902\n",
      "Multiple eval metrics have been passed: 'valid-rmse' will be used for early stopping.\n",
      "\n",
      "Will train until valid-rmse hasn't improved in 50 rounds.\n",
      "[50]\ttrain-rmse:10.2917\tvalid-rmse:5.66168\n",
      "[100]\ttrain-rmse:8.90385\tvalid-rmse:5.22638\n",
      "[150]\ttrain-rmse:7.79733\tvalid-rmse:4.8794\n",
      "[200]\ttrain-rmse:6.91917\tvalid-rmse:4.61936\n",
      "[250]\ttrain-rmse:6.22263\tvalid-rmse:4.39902\n",
      "[300]\ttrain-rmse:5.66812\tvalid-rmse:4.23222\n",
      "[350]\ttrain-rmse:5.23068\tvalid-rmse:4.10132\n",
      "[400]\ttrain-rmse:4.87945\tvalid-rmse:3.98644\n",
      "[450]\ttrain-rmse:4.59297\tvalid-rmse:3.8984\n",
      "[500]\ttrain-rmse:4.35799\tvalid-rmse:3.82207\n",
      "[550]\ttrain-rmse:4.16116\tvalid-rmse:3.75822\n",
      "[600]\ttrain-rmse:3.99326\tvalid-rmse:3.71018\n",
      "[650]\ttrain-rmse:3.84936\tvalid-rmse:3.6726\n",
      "[700]\ttrain-rmse:3.7215\tvalid-rmse:3.64317\n",
      "[750]\ttrain-rmse:3.60937\tvalid-rmse:3.61566\n",
      "[800]\ttrain-rmse:3.51168\tvalid-rmse:3.59667\n",
      "[850]\ttrain-rmse:3.42412\tvalid-rmse:3.58058\n",
      "[900]\ttrain-rmse:3.34756\tvalid-rmse:3.56836\n",
      "[950]\ttrain-rmse:3.27748\tvalid-rmse:3.5579\n",
      "[1000]\ttrain-rmse:3.21178\tvalid-rmse:3.54803\n",
      "[1050]\ttrain-rmse:3.15213\tvalid-rmse:3.54183\n",
      "[1100]\ttrain-rmse:3.09231\tvalid-rmse:3.53812\n",
      "[1150]\ttrain-rmse:3.03924\tvalid-rmse:3.53624\n",
      "[1200]\ttrain-rmse:2.98976\tvalid-rmse:3.53531\n",
      "[1250]\ttrain-rmse:2.94384\tvalid-rmse:3.53389\n",
      "[1300]\ttrain-rmse:2.89836\tvalid-rmse:3.53664\n",
      "Stopping. Best iteration:\n",
      "[1264]\ttrain-rmse:2.93132\tvalid-rmse:3.53315\n",
      "\n",
      "fold:3\n",
      "[0]\ttrain-rmse:12.0576\tvalid-rmse:5.57516\n",
      "Multiple eval metrics have been passed: 'valid-rmse' will be used for early stopping.\n",
      "\n",
      "Will train until valid-rmse hasn't improved in 50 rounds.\n",
      "[50]\ttrain-rmse:10.3202\tvalid-rmse:4.85128\n",
      "[100]\ttrain-rmse:8.92873\tvalid-rmse:4.31264\n",
      "[150]\ttrain-rmse:7.81887\tvalid-rmse:3.91271\n",
      "[200]\ttrain-rmse:6.93767\tvalid-rmse:3.63135\n",
      "[250]\ttrain-rmse:6.2376\tvalid-rmse:3.43674\n",
      "[300]\ttrain-rmse:5.67824\tvalid-rmse:3.3061\n",
      "[350]\ttrain-rmse:5.23725\tvalid-rmse:3.2168\n",
      "[400]\ttrain-rmse:4.88159\tvalid-rmse:3.16255\n",
      "[450]\ttrain-rmse:4.5941\tvalid-rmse:3.12781\n",
      "[500]\ttrain-rmse:4.35818\tvalid-rmse:3.10662\n",
      "[550]\ttrain-rmse:4.1624\tvalid-rmse:3.09191\n",
      "[600]\ttrain-rmse:3.99397\tvalid-rmse:3.08795\n",
      "[650]\ttrain-rmse:3.85201\tvalid-rmse:3.08445\n",
      "[700]\ttrain-rmse:3.72537\tvalid-rmse:3.08427\n",
      "Stopping. Best iteration:\n",
      "[665]\ttrain-rmse:3.81225\tvalid-rmse:3.08273\n",
      "\n",
      "fold:4\n",
      "[0]\ttrain-rmse:11.6916\tvalid-rmse:10.4607\n",
      "Multiple eval metrics have been passed: 'valid-rmse' will be used for early stopping.\n",
      "\n",
      "Will train until valid-rmse hasn't improved in 50 rounds.\n",
      "[50]\ttrain-rmse:10.0068\tvalid-rmse:9.30977\n",
      "[100]\ttrain-rmse:8.65639\tvalid-rmse:8.4094\n",
      "[150]\ttrain-rmse:7.57825\tvalid-rmse:7.70693\n",
      "[200]\ttrain-rmse:6.72095\tvalid-rmse:7.15795\n",
      "[250]\ttrain-rmse:6.03824\tvalid-rmse:6.73769\n",
      "[300]\ttrain-rmse:5.49413\tvalid-rmse:6.4104\n",
      "[350]\ttrain-rmse:5.06123\tvalid-rmse:6.15842\n",
      "[400]\ttrain-rmse:4.71289\tvalid-rmse:5.96592\n",
      "[450]\ttrain-rmse:4.43043\tvalid-rmse:5.82521\n",
      "[500]\ttrain-rmse:4.19729\tvalid-rmse:5.71505\n",
      "[550]\ttrain-rmse:4.00122\tvalid-rmse:5.6307\n",
      "[600]\ttrain-rmse:3.8347\tvalid-rmse:5.56341\n",
      "[650]\ttrain-rmse:3.69404\tvalid-rmse:5.50866\n",
      "[700]\ttrain-rmse:3.56908\tvalid-rmse:5.46903\n",
      "[750]\ttrain-rmse:3.45685\tvalid-rmse:5.43605\n",
      "[800]\ttrain-rmse:3.36093\tvalid-rmse:5.4093\n",
      "[850]\ttrain-rmse:3.27391\tvalid-rmse:5.39214\n",
      "[900]\ttrain-rmse:3.1926\tvalid-rmse:5.37882\n",
      "[950]\ttrain-rmse:3.12142\tvalid-rmse:5.36644\n",
      "[1000]\ttrain-rmse:3.05541\tvalid-rmse:5.35599\n",
      "[1050]\ttrain-rmse:2.99689\tvalid-rmse:5.34974\n",
      "[1100]\ttrain-rmse:2.93945\tvalid-rmse:5.3425\n",
      "[1150]\ttrain-rmse:2.88612\tvalid-rmse:5.33746\n",
      "[1200]\ttrain-rmse:2.83715\tvalid-rmse:5.3334\n",
      "[1250]\ttrain-rmse:2.79183\tvalid-rmse:5.33301\n",
      "Stopping. Best iteration:\n",
      "[1216]\ttrain-rmse:2.82158\tvalid-rmse:5.33201\n",
      "\n",
      "fold:5\n",
      "[0]\ttrain-rmse:11.8637\tvalid-rmse:8.53219\n",
      "Multiple eval metrics have been passed: 'valid-rmse' will be used for early stopping.\n",
      "\n",
      "Will train until valid-rmse hasn't improved in 50 rounds.\n",
      "[50]\ttrain-rmse:10.1573\tvalid-rmse:7.43309\n",
      "[100]\ttrain-rmse:8.7888\tvalid-rmse:6.57556\n",
      "[150]\ttrain-rmse:7.69501\tvalid-rmse:5.91897\n",
      "[200]\ttrain-rmse:6.82645\tvalid-rmse:5.42342\n",
      "[250]\ttrain-rmse:6.13431\tvalid-rmse:5.05855\n",
      "[300]\ttrain-rmse:5.58289\tvalid-rmse:4.7966\n",
      "[350]\ttrain-rmse:5.14481\tvalid-rmse:4.60428\n",
      "[400]\ttrain-rmse:4.79133\tvalid-rmse:4.46849\n",
      "[450]\ttrain-rmse:4.50409\tvalid-rmse:4.37317\n",
      "[500]\ttrain-rmse:4.27023\tvalid-rmse:4.31104\n",
      "[550]\ttrain-rmse:4.0738\tvalid-rmse:4.27178\n",
      "[600]\ttrain-rmse:3.90779\tvalid-rmse:4.24545\n",
      "[650]\ttrain-rmse:3.76577\tvalid-rmse:4.23042\n",
      "[700]\ttrain-rmse:3.64056\tvalid-rmse:4.22106\n",
      "[750]\ttrain-rmse:3.52755\tvalid-rmse:4.21417\n",
      "[800]\ttrain-rmse:3.43089\tvalid-rmse:4.21533\n",
      "Stopping. Best iteration:\n",
      "[758]\ttrain-rmse:3.51128\tvalid-rmse:4.21361\n",
      "\n",
      "fold:6\n",
      "[0]\ttrain-rmse:11.8615\tvalid-rmse:8.55986\n",
      "Multiple eval metrics have been passed: 'valid-rmse' will be used for early stopping.\n",
      "\n",
      "Will train until valid-rmse hasn't improved in 50 rounds.\n",
      "[50]\ttrain-rmse:10.1641\tvalid-rmse:7.24978\n",
      "[100]\ttrain-rmse:8.8028\tvalid-rmse:6.21484\n",
      "[150]\ttrain-rmse:7.71591\tvalid-rmse:5.41201\n",
      "[200]\ttrain-rmse:6.85194\tvalid-rmse:4.79687\n",
      "[250]\ttrain-rmse:6.16498\tvalid-rmse:4.34382\n",
      "[300]\ttrain-rmse:5.61827\tvalid-rmse:4.02014\n",
      "[350]\ttrain-rmse:5.18182\tvalid-rmse:3.7891\n",
      "[400]\ttrain-rmse:4.83023\tvalid-rmse:3.635\n",
      "[450]\ttrain-rmse:4.54365\tvalid-rmse:3.52741\n",
      "[500]\ttrain-rmse:4.30869\tvalid-rmse:3.45885\n",
      "[550]\ttrain-rmse:4.11144\tvalid-rmse:3.4186\n",
      "[600]\ttrain-rmse:3.94664\tvalid-rmse:3.40348\n",
      "[650]\ttrain-rmse:3.80567\tvalid-rmse:3.39586\n",
      "Stopping. Best iteration:\n",
      "[642]\ttrain-rmse:3.82647\tvalid-rmse:3.395\n",
      "\n",
      "fold:7\n",
      "[0]\ttrain-rmse:11.8661\tvalid-rmse:8.50184\n",
      "Multiple eval metrics have been passed: 'valid-rmse' will be used for early stopping.\n",
      "\n",
      "Will train until valid-rmse hasn't improved in 50 rounds.\n",
      "[50]\ttrain-rmse:10.1646\tvalid-rmse:7.25218\n",
      "[100]\ttrain-rmse:8.79907\tvalid-rmse:6.28224\n",
      "[150]\ttrain-rmse:7.71061\tvalid-rmse:5.52571\n",
      "[200]\ttrain-rmse:6.84533\tvalid-rmse:4.9582\n",
      "[250]\ttrain-rmse:6.15926\tvalid-rmse:4.5423\n",
      "[300]\ttrain-rmse:5.61165\tvalid-rmse:4.24795\n",
      "[350]\ttrain-rmse:5.17588\tvalid-rmse:4.04272\n",
      "[400]\ttrain-rmse:4.82503\tvalid-rmse:3.89626\n",
      "[450]\ttrain-rmse:4.5386\tvalid-rmse:3.79985\n",
      "[500]\ttrain-rmse:4.30546\tvalid-rmse:3.73257\n",
      "[550]\ttrain-rmse:4.11145\tvalid-rmse:3.6906\n",
      "[600]\ttrain-rmse:3.94711\tvalid-rmse:3.66206\n",
      "[650]\ttrain-rmse:3.80629\tvalid-rmse:3.64584\n",
      "[700]\ttrain-rmse:3.68069\tvalid-rmse:3.63726\n",
      "[750]\ttrain-rmse:3.56701\tvalid-rmse:3.63453\n",
      "[800]\ttrain-rmse:3.46792\tvalid-rmse:3.63415\n",
      "[850]\ttrain-rmse:3.38011\tvalid-rmse:3.6334\n",
      "Stopping. Best iteration:\n",
      "[823]\ttrain-rmse:3.42594\tvalid-rmse:3.63198\n",
      "\n",
      "fold:8\n",
      "[0]\ttrain-rmse:10.813\tvalid-rmse:16.9364\n",
      "Multiple eval metrics have been passed: 'valid-rmse' will be used for early stopping.\n",
      "\n",
      "Will train until valid-rmse hasn't improved in 50 rounds.\n",
      "[50]\ttrain-rmse:9.25053\tvalid-rmse:14.6285\n",
      "[100]\ttrain-rmse:7.99854\tvalid-rmse:12.9553\n",
      "[150]\ttrain-rmse:6.99714\tvalid-rmse:11.6843\n",
      "[200]\ttrain-rmse:6.20176\tvalid-rmse:10.7686\n",
      "[250]\ttrain-rmse:5.56898\tvalid-rmse:10.1116\n",
      "[300]\ttrain-rmse:5.06724\tvalid-rmse:9.62639\n",
      "[350]\ttrain-rmse:4.66307\tvalid-rmse:9.313\n",
      "[400]\ttrain-rmse:4.34068\tvalid-rmse:9.05177\n",
      "[450]\ttrain-rmse:4.08103\tvalid-rmse:8.87553\n",
      "[500]\ttrain-rmse:3.86614\tvalid-rmse:8.74457\n",
      "[550]\ttrain-rmse:3.69002\tvalid-rmse:8.64683\n",
      "[600]\ttrain-rmse:3.54136\tvalid-rmse:8.57484\n",
      "[650]\ttrain-rmse:3.41518\tvalid-rmse:8.52534\n",
      "[700]\ttrain-rmse:3.30392\tvalid-rmse:8.48471\n",
      "[750]\ttrain-rmse:3.20662\tvalid-rmse:8.45225\n",
      "[800]\ttrain-rmse:3.12085\tvalid-rmse:8.42951\n",
      "[850]\ttrain-rmse:3.04438\tvalid-rmse:8.41472\n",
      "[900]\ttrain-rmse:2.97342\tvalid-rmse:8.40308\n",
      "[950]\ttrain-rmse:2.91142\tvalid-rmse:8.39415\n",
      "[1000]\ttrain-rmse:2.8565\tvalid-rmse:8.38485\n",
      "[1050]\ttrain-rmse:2.80541\tvalid-rmse:8.38164\n",
      "[1100]\ttrain-rmse:2.7578\tvalid-rmse:8.37745\n",
      "[1150]\ttrain-rmse:2.71292\tvalid-rmse:8.37528\n",
      "Stopping. Best iteration:\n",
      "[1148]\ttrain-rmse:2.71453\tvalid-rmse:8.3746\n",
      "\n",
      "fold:9\n",
      "[0]\ttrain-rmse:11.9178\tvalid-rmse:7.8287\n",
      "Multiple eval metrics have been passed: 'valid-rmse' will be used for early stopping.\n",
      "\n",
      "Will train until valid-rmse hasn't improved in 50 rounds.\n",
      "[50]\ttrain-rmse:10.2025\tvalid-rmse:6.88039\n",
      "[100]\ttrain-rmse:8.82775\tvalid-rmse:6.15367\n",
      "[150]\ttrain-rmse:7.73093\tvalid-rmse:5.59359\n",
      "[200]\ttrain-rmse:6.86372\tvalid-rmse:5.16636\n",
      "[250]\ttrain-rmse:6.17528\tvalid-rmse:4.84868\n",
      "[300]\ttrain-rmse:5.62664\tvalid-rmse:4.60518\n",
      "[350]\ttrain-rmse:5.18621\tvalid-rmse:4.43135\n",
      "[400]\ttrain-rmse:4.83283\tvalid-rmse:4.3011\n",
      "[450]\ttrain-rmse:4.54399\tvalid-rmse:4.20677\n",
      "[500]\ttrain-rmse:4.30915\tvalid-rmse:4.1316\n",
      "[550]\ttrain-rmse:4.11497\tvalid-rmse:4.07492\n",
      "[600]\ttrain-rmse:3.94981\tvalid-rmse:4.02596\n",
      "[650]\ttrain-rmse:3.80882\tvalid-rmse:3.99334\n",
      "[700]\ttrain-rmse:3.68295\tvalid-rmse:3.96387\n",
      "[750]\ttrain-rmse:3.56908\tvalid-rmse:3.94476\n",
      "[800]\ttrain-rmse:3.4702\tvalid-rmse:3.9272\n",
      "[850]\ttrain-rmse:3.38112\tvalid-rmse:3.91491\n",
      "[900]\ttrain-rmse:3.30516\tvalid-rmse:3.9046\n",
      "[950]\ttrain-rmse:3.23468\tvalid-rmse:3.89391\n",
      "[1000]\ttrain-rmse:3.17038\tvalid-rmse:3.88417\n",
      "[1050]\ttrain-rmse:3.1119\tvalid-rmse:3.87849\n",
      "[1100]\ttrain-rmse:3.05531\tvalid-rmse:3.87507\n",
      "[1150]\ttrain-rmse:3.00113\tvalid-rmse:3.87238\n",
      "[1200]\ttrain-rmse:2.95261\tvalid-rmse:3.86747\n",
      "[1250]\ttrain-rmse:2.90787\tvalid-rmse:3.86636\n",
      "[1300]\ttrain-rmse:2.86476\tvalid-rmse:3.86427\n",
      "[1350]\ttrain-rmse:2.82481\tvalid-rmse:3.8646\n",
      "[1400]\ttrain-rmse:2.78902\tvalid-rmse:3.86205\n",
      "[1450]\ttrain-rmse:2.7499\tvalid-rmse:3.85942\n",
      "[1500]\ttrain-rmse:2.7173\tvalid-rmse:3.85969\n",
      "Stopping. Best iteration:\n",
      "[1460]\ttrain-rmse:2.74329\tvalid-rmse:3.85905\n",
      "\n",
      "fold:10\n",
      "[0]\ttrain-rmse:10.8385\tvalid-rmse:16.8473\n",
      "Multiple eval metrics have been passed: 'valid-rmse' will be used for early stopping.\n",
      "\n",
      "Will train until valid-rmse hasn't improved in 50 rounds.\n",
      "[50]\ttrain-rmse:9.28059\tvalid-rmse:16.1429\n",
      "[100]\ttrain-rmse:8.03748\tvalid-rmse:15.4863\n",
      "[150]\ttrain-rmse:7.04629\tvalid-rmse:14.963\n",
      "[200]\ttrain-rmse:6.25694\tvalid-rmse:14.5207\n",
      "[250]\ttrain-rmse:5.63278\tvalid-rmse:14.1331\n",
      "[300]\ttrain-rmse:5.13582\tvalid-rmse:13.8117\n",
      "[350]\ttrain-rmse:4.73721\tvalid-rmse:13.5556\n",
      "[400]\ttrain-rmse:4.41442\tvalid-rmse:13.2961\n",
      "[450]\ttrain-rmse:4.15212\tvalid-rmse:13.0664\n",
      "[500]\ttrain-rmse:3.93506\tvalid-rmse:12.8757\n",
      "[550]\ttrain-rmse:3.7542\tvalid-rmse:12.7563\n",
      "[600]\ttrain-rmse:3.60343\tvalid-rmse:12.6059\n",
      "[650]\ttrain-rmse:3.46762\tvalid-rmse:12.509\n",
      "[700]\ttrain-rmse:3.35011\tvalid-rmse:12.4293\n",
      "[750]\ttrain-rmse:3.24017\tvalid-rmse:12.3465\n",
      "[800]\ttrain-rmse:3.14434\tvalid-rmse:12.2968\n",
      "[850]\ttrain-rmse:3.05817\tvalid-rmse:12.2378\n",
      "[900]\ttrain-rmse:2.98276\tvalid-rmse:12.1843\n",
      "[950]\ttrain-rmse:2.90755\tvalid-rmse:12.1447\n",
      "[1000]\ttrain-rmse:2.84379\tvalid-rmse:12.1055\n",
      "[1050]\ttrain-rmse:2.78264\tvalid-rmse:12.066\n",
      "[1100]\ttrain-rmse:2.72898\tvalid-rmse:12.0241\n",
      "[1150]\ttrain-rmse:2.67492\tvalid-rmse:12.0057\n",
      "[1200]\ttrain-rmse:2.62398\tvalid-rmse:11.9771\n",
      "[1250]\ttrain-rmse:2.5789\tvalid-rmse:11.9601\n",
      "[1300]\ttrain-rmse:2.53556\tvalid-rmse:11.9459\n",
      "[1350]\ttrain-rmse:2.49512\tvalid-rmse:11.9305\n",
      "[1400]\ttrain-rmse:2.4585\tvalid-rmse:11.9202\n",
      "Stopping. Best iteration:\n",
      "[1376]\ttrain-rmse:2.47592\tvalid-rmse:11.9167\n",
      "\n"
     ]
    }
   ],
   "source": [
    "# Train the data with Kfold method with K=10\n",
    "train_pred_kfold,test_pred_kfold= "
   ]
  },
  {
   "cell_type": "code",
   "execution_count": 106,
   "metadata": {},
   "outputs": [
    {
     "name": "stdout",
     "output_type": "stream",
     "text": [
      "Validation   mean_absolute_error 3.8231421079916426\n"
     ]
    }
   ],
   "source": [
    "print(\"CV  \",mean_absolute_error.__name__ , mean_absolute_error(Y_train,train_pred_kfold))"
   ]
  },
  {
   "cell_type": "markdown",
   "metadata": {
    "colab_type": "text",
    "id": "wARH-sH6y4Dd"
   },
   "source": [
    "# Evaluation"
   ]
  },
  {
   "cell_type": "code",
   "execution_count": 109,
   "metadata": {
    "colab": {},
    "colab_type": "code",
    "collapsed": true,
    "id": "zj18VXa8yqrS"
   },
   "outputs": [],
   "source": [
    "def evaluation(pred,test,test_target,validation_type=\"\"):\n",
    "    test[\"predection_target\"]=pred\n",
    "    test_target=test_target.merge(test[[\"ride_id\",\"predection_target\"]],on=\"ride_id\",how=\"left\")\n",
    "    print( validation_type+\" \",mean_absolute_error.__name__ , mean_absolute_error(test_target.number_of_ticket,test_target.predection_target))"
   ]
  },
  {
   "cell_type": "code",
   "execution_count": 110,
   "metadata": {},
   "outputs": [
    {
     "name": "stdout",
     "output_type": "stream",
     "text": [
      "Simple validation  mean_absolute_error 3.6174486679176723\n",
      "Kfold  mean_absolute_error 3.599984739723504\n"
     ]
    },
    {
     "name": "stderr",
     "output_type": "stream",
     "text": [
      "/usr/local/lib/python3.5/dist-packages/ipykernel_launcher.py:2: SettingWithCopyWarning: \n",
      "A value is trying to be set on a copy of a slice from a DataFrame.\n",
      "Try using .loc[row_indexer,col_indexer] = value instead\n",
      "\n",
      "See the caveats in the documentation: http://pandas.pydata.org/pandas-docs/stable/indexing.html#indexing-view-versus-copy\n",
      "  \n",
      "/usr/local/lib/python3.5/dist-packages/ipykernel_launcher.py:2: SettingWithCopyWarning: \n",
      "A value is trying to be set on a copy of a slice from a DataFrame.\n",
      "Try using .loc[row_indexer,col_indexer] = value instead\n",
      "\n",
      "See the caveats in the documentation: http://pandas.pydata.org/pandas-docs/stable/indexing.html#indexing-view-versus-copy\n",
      "  \n"
     ]
    }
   ],
   "source": [
    "evaluation(test_pred,test,test_target,\"Simple validation\")\n",
    "evaluation(test_pred_kfold,test,test_target,\"Kfold\")"
   ]
  }
 ],
 "metadata": {
  "colab": {
   "collapsed_sections": [],
   "name": "Eniso_workshop.ipynb",
   "provenance": [],
   "version": "0.3.2"
  },
  "kernelspec": {
   "display_name": "Python 3",
   "language": "python",
   "name": "python3"
  },
  "language_info": {
   "codemirror_mode": {
    "name": "ipython",
    "version": 3
   },
   "file_extension": ".py",
   "mimetype": "text/x-python",
   "name": "python",
   "nbconvert_exporter": "python",
   "pygments_lexer": "ipython3",
   "version": "3.6.3"
  }
 },
 "nbformat": 4,
 "nbformat_minor": 2
}
